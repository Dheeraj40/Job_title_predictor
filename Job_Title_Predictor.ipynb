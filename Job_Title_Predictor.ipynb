{
  "cells": [
    {
      "metadata": {
        "id": "YCnO2YjBvaed"
      },
      "cell_type": "markdown",
      "source": [
        "# Natural Language Processing\n",
        "**Natural Language Processing or NLP** is a branch of Artificial Intelligence which deal with bridging the machines understanding humans in their Natural Language. Natural Language can be in form of text or sound, which are used for humans to communicate each other. NLP can enable humans to communicate to machines in a natural way."
      ]
    },
    {
      "metadata": {
        "id": "RlHFSXG0vaeg"
      },
      "cell_type": "markdown",
      "source": [
        "##  Importing Dependencies\n",
        "   We shall start by importing all the neccessary libraries. I will explain the exact use of each library later in this notebook."
      ]
    },
    {
      "metadata": {
        "_uuid": "d629ff2d2480ee46fbb7e2d37f6b5fab8052498a",
        "_cell_guid": "79c7e3d0-c299-4dcb-8224-4455121ee9b0",
        "trusted": true,
        "id": "airl3IjNvaeg",
        "outputId": "fef72b86-c740-42cb-a64c-ffe98c2fd4d9",
        "colab": {
          "base_uri": "https://localhost:8080/"
        }
      },
      "cell_type": "code",
      "source": [
        "import tensorflow as tf\n",
        "import matplotlib.pyplot as plt\n",
        "import pandas as pd\n",
        "import numpy as np\n",
        "\n",
        "\n",
        "import nltk\n",
        "nltk.download('stopwords')\n",
        "from nltk.corpus import stopwords\n",
        "from nltk.stem import SnowballStemmer\n",
        "\n",
        "\n",
        "\n",
        "from sklearn.model_selection import train_test_split\n",
        "from sklearn.preprocessing import LabelEncoder\n",
        "\n",
        "\n",
        "import re\n",
        "\n",
        "print(\"Tensorflow Version\",tf.__version__)"
      ],
      "execution_count": 51,
      "outputs": [
        {
          "output_type": "stream",
          "name": "stdout",
          "text": [
            "Tensorflow Version 2.15.0\n"
          ]
        },
        {
          "output_type": "stream",
          "name": "stderr",
          "text": [
            "[nltk_data] Downloading package stopwords to /root/nltk_data...\n",
            "[nltk_data]   Package stopwords is already up-to-date!\n"
          ]
        }
      ]
    },
    {
      "metadata": {
        "id": "O5-M9mmsvaeh"
      },
      "cell_type": "markdown",
      "source": [
        "#  Dataset Preprocessing\n"
      ]
    },
    {
      "metadata": {
        "trusted": true,
        "id": "XKqsS9Txvaeh",
        "outputId": "bd496c21-d915-4dcd-88c8-6b5753783d15",
        "colab": {
          "base_uri": "https://localhost:8080/",
          "height": 206
        }
      },
      "cell_type": "code",
      "source": [
        "df = pd.read_csv('function_assignment.csv', encoding='utf8')\n",
        "df.head()"
      ],
      "execution_count": 9,
      "outputs": [
        {
          "output_type": "execute_result",
          "data": {
            "text/plain": [
              "                                          function                 job_title  \\\n",
              "0  Sales/ Business Development/ Account Management  Head - Digital Portfolio   \n",
              "1                       IT/ Information Technology             Software Head   \n",
              "2                            Software Architecting         iPhone Developers   \n",
              "3                            Software Architecting    Html/css Developer Job   \n",
              "4                            Software Architecting     Asp.net Developer Job   \n",
              "\n",
              "                                                 jds  \n",
              "0                                                NaN  \n",
              "1  10-15 years of experience in a VFX facility Ad...  \n",
              "2  Candidate Should have Strong OO design and pro...  \n",
              "3  Job Description Must have at -least . Years ex...  \n",
              "4  Develop ASP.netweb applicationsPerform unit te...  "
            ],
            "text/html": [
              "\n",
              "  <div id=\"df-3403345c-2604-44c3-a3bb-ec341825f0be\" class=\"colab-df-container\">\n",
              "    <div>\n",
              "<style scoped>\n",
              "    .dataframe tbody tr th:only-of-type {\n",
              "        vertical-align: middle;\n",
              "    }\n",
              "\n",
              "    .dataframe tbody tr th {\n",
              "        vertical-align: top;\n",
              "    }\n",
              "\n",
              "    .dataframe thead th {\n",
              "        text-align: right;\n",
              "    }\n",
              "</style>\n",
              "<table border=\"1\" class=\"dataframe\">\n",
              "  <thead>\n",
              "    <tr style=\"text-align: right;\">\n",
              "      <th></th>\n",
              "      <th>function</th>\n",
              "      <th>job_title</th>\n",
              "      <th>jds</th>\n",
              "    </tr>\n",
              "  </thead>\n",
              "  <tbody>\n",
              "    <tr>\n",
              "      <th>0</th>\n",
              "      <td>Sales/ Business Development/ Account Management</td>\n",
              "      <td>Head - Digital Portfolio</td>\n",
              "      <td>NaN</td>\n",
              "    </tr>\n",
              "    <tr>\n",
              "      <th>1</th>\n",
              "      <td>IT/ Information Technology</td>\n",
              "      <td>Software Head</td>\n",
              "      <td>10-15 years of experience in a VFX facility Ad...</td>\n",
              "    </tr>\n",
              "    <tr>\n",
              "      <th>2</th>\n",
              "      <td>Software Architecting</td>\n",
              "      <td>iPhone Developers</td>\n",
              "      <td>Candidate Should have Strong OO design and pro...</td>\n",
              "    </tr>\n",
              "    <tr>\n",
              "      <th>3</th>\n",
              "      <td>Software Architecting</td>\n",
              "      <td>Html/css Developer Job</td>\n",
              "      <td>Job Description Must have at -least . Years ex...</td>\n",
              "    </tr>\n",
              "    <tr>\n",
              "      <th>4</th>\n",
              "      <td>Software Architecting</td>\n",
              "      <td>Asp.net Developer Job</td>\n",
              "      <td>Develop ASP.netweb applicationsPerform unit te...</td>\n",
              "    </tr>\n",
              "  </tbody>\n",
              "</table>\n",
              "</div>\n",
              "    <div class=\"colab-df-buttons\">\n",
              "\n",
              "  <div class=\"colab-df-container\">\n",
              "    <button class=\"colab-df-convert\" onclick=\"convertToInteractive('df-3403345c-2604-44c3-a3bb-ec341825f0be')\"\n",
              "            title=\"Convert this dataframe to an interactive table.\"\n",
              "            style=\"display:none;\">\n",
              "\n",
              "  <svg xmlns=\"http://www.w3.org/2000/svg\" height=\"24px\" viewBox=\"0 -960 960 960\">\n",
              "    <path d=\"M120-120v-720h720v720H120Zm60-500h600v-160H180v160Zm220 220h160v-160H400v160Zm0 220h160v-160H400v160ZM180-400h160v-160H180v160Zm440 0h160v-160H620v160ZM180-180h160v-160H180v160Zm440 0h160v-160H620v160Z\"/>\n",
              "  </svg>\n",
              "    </button>\n",
              "\n",
              "  <style>\n",
              "    .colab-df-container {\n",
              "      display:flex;\n",
              "      gap: 12px;\n",
              "    }\n",
              "\n",
              "    .colab-df-convert {\n",
              "      background-color: #E8F0FE;\n",
              "      border: none;\n",
              "      border-radius: 50%;\n",
              "      cursor: pointer;\n",
              "      display: none;\n",
              "      fill: #1967D2;\n",
              "      height: 32px;\n",
              "      padding: 0 0 0 0;\n",
              "      width: 32px;\n",
              "    }\n",
              "\n",
              "    .colab-df-convert:hover {\n",
              "      background-color: #E2EBFA;\n",
              "      box-shadow: 0px 1px 2px rgba(60, 64, 67, 0.3), 0px 1px 3px 1px rgba(60, 64, 67, 0.15);\n",
              "      fill: #174EA6;\n",
              "    }\n",
              "\n",
              "    .colab-df-buttons div {\n",
              "      margin-bottom: 4px;\n",
              "    }\n",
              "\n",
              "    [theme=dark] .colab-df-convert {\n",
              "      background-color: #3B4455;\n",
              "      fill: #D2E3FC;\n",
              "    }\n",
              "\n",
              "    [theme=dark] .colab-df-convert:hover {\n",
              "      background-color: #434B5C;\n",
              "      box-shadow: 0px 1px 3px 1px rgba(0, 0, 0, 0.15);\n",
              "      filter: drop-shadow(0px 1px 2px rgba(0, 0, 0, 0.3));\n",
              "      fill: #FFFFFF;\n",
              "    }\n",
              "  </style>\n",
              "\n",
              "    <script>\n",
              "      const buttonEl =\n",
              "        document.querySelector('#df-3403345c-2604-44c3-a3bb-ec341825f0be button.colab-df-convert');\n",
              "      buttonEl.style.display =\n",
              "        google.colab.kernel.accessAllowed ? 'block' : 'none';\n",
              "\n",
              "      async function convertToInteractive(key) {\n",
              "        const element = document.querySelector('#df-3403345c-2604-44c3-a3bb-ec341825f0be');\n",
              "        const dataTable =\n",
              "          await google.colab.kernel.invokeFunction('convertToInteractive',\n",
              "                                                    [key], {});\n",
              "        if (!dataTable) return;\n",
              "\n",
              "        const docLinkHtml = 'Like what you see? Visit the ' +\n",
              "          '<a target=\"_blank\" href=https://colab.research.google.com/notebooks/data_table.ipynb>data table notebook</a>'\n",
              "          + ' to learn more about interactive tables.';\n",
              "        element.innerHTML = '';\n",
              "        dataTable['output_type'] = 'display_data';\n",
              "        await google.colab.output.renderOutput(dataTable, element);\n",
              "        const docLink = document.createElement('div');\n",
              "        docLink.innerHTML = docLinkHtml;\n",
              "        element.appendChild(docLink);\n",
              "      }\n",
              "    </script>\n",
              "  </div>\n",
              "\n",
              "\n",
              "<div id=\"df-e619a9cf-a1eb-40fd-a620-a5f8415c9b9c\">\n",
              "  <button class=\"colab-df-quickchart\" onclick=\"quickchart('df-e619a9cf-a1eb-40fd-a620-a5f8415c9b9c')\"\n",
              "            title=\"Suggest charts\"\n",
              "            style=\"display:none;\">\n",
              "\n",
              "<svg xmlns=\"http://www.w3.org/2000/svg\" height=\"24px\"viewBox=\"0 0 24 24\"\n",
              "     width=\"24px\">\n",
              "    <g>\n",
              "        <path d=\"M19 3H5c-1.1 0-2 .9-2 2v14c0 1.1.9 2 2 2h14c1.1 0 2-.9 2-2V5c0-1.1-.9-2-2-2zM9 17H7v-7h2v7zm4 0h-2V7h2v10zm4 0h-2v-4h2v4z\"/>\n",
              "    </g>\n",
              "</svg>\n",
              "  </button>\n",
              "\n",
              "<style>\n",
              "  .colab-df-quickchart {\n",
              "      --bg-color: #E8F0FE;\n",
              "      --fill-color: #1967D2;\n",
              "      --hover-bg-color: #E2EBFA;\n",
              "      --hover-fill-color: #174EA6;\n",
              "      --disabled-fill-color: #AAA;\n",
              "      --disabled-bg-color: #DDD;\n",
              "  }\n",
              "\n",
              "  [theme=dark] .colab-df-quickchart {\n",
              "      --bg-color: #3B4455;\n",
              "      --fill-color: #D2E3FC;\n",
              "      --hover-bg-color: #434B5C;\n",
              "      --hover-fill-color: #FFFFFF;\n",
              "      --disabled-bg-color: #3B4455;\n",
              "      --disabled-fill-color: #666;\n",
              "  }\n",
              "\n",
              "  .colab-df-quickchart {\n",
              "    background-color: var(--bg-color);\n",
              "    border: none;\n",
              "    border-radius: 50%;\n",
              "    cursor: pointer;\n",
              "    display: none;\n",
              "    fill: var(--fill-color);\n",
              "    height: 32px;\n",
              "    padding: 0;\n",
              "    width: 32px;\n",
              "  }\n",
              "\n",
              "  .colab-df-quickchart:hover {\n",
              "    background-color: var(--hover-bg-color);\n",
              "    box-shadow: 0 1px 2px rgba(60, 64, 67, 0.3), 0 1px 3px 1px rgba(60, 64, 67, 0.15);\n",
              "    fill: var(--button-hover-fill-color);\n",
              "  }\n",
              "\n",
              "  .colab-df-quickchart-complete:disabled,\n",
              "  .colab-df-quickchart-complete:disabled:hover {\n",
              "    background-color: var(--disabled-bg-color);\n",
              "    fill: var(--disabled-fill-color);\n",
              "    box-shadow: none;\n",
              "  }\n",
              "\n",
              "  .colab-df-spinner {\n",
              "    border: 2px solid var(--fill-color);\n",
              "    border-color: transparent;\n",
              "    border-bottom-color: var(--fill-color);\n",
              "    animation:\n",
              "      spin 1s steps(1) infinite;\n",
              "  }\n",
              "\n",
              "  @keyframes spin {\n",
              "    0% {\n",
              "      border-color: transparent;\n",
              "      border-bottom-color: var(--fill-color);\n",
              "      border-left-color: var(--fill-color);\n",
              "    }\n",
              "    20% {\n",
              "      border-color: transparent;\n",
              "      border-left-color: var(--fill-color);\n",
              "      border-top-color: var(--fill-color);\n",
              "    }\n",
              "    30% {\n",
              "      border-color: transparent;\n",
              "      border-left-color: var(--fill-color);\n",
              "      border-top-color: var(--fill-color);\n",
              "      border-right-color: var(--fill-color);\n",
              "    }\n",
              "    40% {\n",
              "      border-color: transparent;\n",
              "      border-right-color: var(--fill-color);\n",
              "      border-top-color: var(--fill-color);\n",
              "    }\n",
              "    60% {\n",
              "      border-color: transparent;\n",
              "      border-right-color: var(--fill-color);\n",
              "    }\n",
              "    80% {\n",
              "      border-color: transparent;\n",
              "      border-right-color: var(--fill-color);\n",
              "      border-bottom-color: var(--fill-color);\n",
              "    }\n",
              "    90% {\n",
              "      border-color: transparent;\n",
              "      border-bottom-color: var(--fill-color);\n",
              "    }\n",
              "  }\n",
              "</style>\n",
              "\n",
              "  <script>\n",
              "    async function quickchart(key) {\n",
              "      const quickchartButtonEl =\n",
              "        document.querySelector('#' + key + ' button');\n",
              "      quickchartButtonEl.disabled = true;  // To prevent multiple clicks.\n",
              "      quickchartButtonEl.classList.add('colab-df-spinner');\n",
              "      try {\n",
              "        const charts = await google.colab.kernel.invokeFunction(\n",
              "            'suggestCharts', [key], {});\n",
              "      } catch (error) {\n",
              "        console.error('Error during call to suggestCharts:', error);\n",
              "      }\n",
              "      quickchartButtonEl.classList.remove('colab-df-spinner');\n",
              "      quickchartButtonEl.classList.add('colab-df-quickchart-complete');\n",
              "    }\n",
              "    (() => {\n",
              "      let quickchartButtonEl =\n",
              "        document.querySelector('#df-e619a9cf-a1eb-40fd-a620-a5f8415c9b9c button');\n",
              "      quickchartButtonEl.style.display =\n",
              "        google.colab.kernel.accessAllowed ? 'block' : 'none';\n",
              "    })();\n",
              "  </script>\n",
              "</div>\n",
              "\n",
              "    </div>\n",
              "  </div>\n"
            ],
            "application/vnd.google.colaboratory.intrinsic+json": {
              "type": "dataframe",
              "variable_name": "df",
              "summary": "{\n  \"name\": \"df\",\n  \"rows\": 10145,\n  \"fields\": [\n    {\n      \"column\": \"function\",\n      \"properties\": {\n        \"dtype\": \"category\",\n        \"num_unique_values\": 351,\n        \"samples\": [\n          \"HR/ Human Resources, Training/ Learning & Development, Content development\",\n          \"Client Servicing, Sales & Marketing, Sales/ Business Development/ Account Management\",\n          \"Administration/ Facilities, Client Servicing, Maintenance\"\n        ],\n        \"semantic_type\": \"\",\n        \"description\": \"\"\n      }\n    },\n    {\n      \"column\": \"job_title\",\n      \"properties\": {\n        \"dtype\": \"string\",\n        \"num_unique_values\": 7236,\n        \"samples\": [\n          \"Manager Business Development\",\n          \"STA / Synthesis Experts\",\n          \"AVP - HR - Case Manager - ER - Bfsi/bpo/kpo/it\"\n        ],\n        \"semantic_type\": \"\",\n        \"description\": \"\"\n      }\n    },\n    {\n      \"column\": \"jds\",\n      \"properties\": {\n        \"dtype\": \"string\",\n        \"num_unique_values\": 6846,\n        \"samples\": [\n          \"We are hiring operations manager for a large format retail company. OM will manage complete operations at EBIDTA level. Candidate must be handling or have handled large format retail business at regional, zonal or Pan India level. Seasoned professional with a zeal to achieve the business plan\",\n          \"The Business, Analytics and Strategy (BA&S) practice is a unique blend of strategists, analysts and technologists. This business unit globally houses thousands of highly skilled practitioners from varied backgrounds such as Big Data and Analytics, Cognitive, Advanced Analytics, Finance Risk and Fraud, Digital operations, Talent etc. This team, leads, executes and manages path breaking projects across the globe. Over the years, the business unit has completed over 40,000 successful engagements across the globe. \\u2022?Employee in this role will have the experience and knowledge to support the delivery of analytics services to the clients. \\u2022?They must understand large and complex services engagements in this area of expertise, including the appropriate methods and skills needed to solve business problems in the client's industry. \\u2022?They must establish strong, trusted relationships with clients through their ability to articulate solutions, and other areas of IBM used in the delivery of complex services. \\u2022?They will be responsible for delivering highest level of Client Satisfaction in their engagements. \\u2022?They will support and lead billable client activities within their area of practice and participate in related Sector, Solution, or Community activities. \\u2022?They are accountable for the financial success of engagements directly managed, as well as the generation of services revenue with the sales of new business. \\u2022?This role is responsible for the successful delivery of Big Data and Analytics solutions and services in a client consulting environment. \\u2022?They will develop strategy for assigned Big Data and Analytics accounts & participate in the development of overall strategy. \\u2022?They will be responsible for overall performance of assigned accounts and for servicing accounts/Industries/Services. As a Delivery Leader you will: \\u2022?Lead 2-3 accounts or one very large account from the perspective of revenue, delivery, quality, schedule and customer satisfaction. \\u2022?Effectively manage the program financials and be accountable for the profitability of the program; Meet financial objectives by forecasting requirements; preparing program budget; scheduling expenditures; analyzing variances. \\u2022?Ensure end-to-end program / delivery governance, being accountable for the work being delivered by the various business units of IBM as part of the program as well as any third party vendor. \\u2022?Be responsible of account mining and driving revenues. \\u2022?Manage stakeholder\\u2019s expectations across geo account partners, key leadership teams and clients. \\u2022?Engage with the C-suite management to present IBM\\u2019s overall value proposition, delivery capability and methodology. \\u2022?You will be the anchor in Proof of Concept developments and support opportunity identification and pursuit processes and evangelize the IBM brand. \\u2022?You will collaborate with some of the best talent in the industry to create and implement innovative high quality solutions, lead and participate in sales and pursuits focused on our clients' business needs. \\u2022?You will be part of a learning culture, where teamwork and collaboration are encouraged, excellence is rewarded, and diversity is respected and valued.\",\n          \"Assess usage of production planning systems in different locations & improve usage Implement SAP Production planning solutions in relevant areas knowledge on SAP PP especially on AFS and FMS Trouble Production systems issues Assess availability of new functionalities in SAP, test and deploy them for end users Periodically assess of knowledge level of users and conduct training Preferably SAP PP certified ( For AFS / FMS )\"\n        ],\n        \"semantic_type\": \"\",\n        \"description\": \"\"\n      }\n    }\n  ]\n}"
            }
          },
          "metadata": {},
          "execution_count": 9
        }
      ]
    },
    {
      "cell_type": "markdown",
      "source": [
        "The decision to drop the 'function' column was made to focus solely on predicting job titles based on job descriptions, simplifying the task and reducing potential noise in the modeling process. This column was deemed irrelevant for the specific objective of the job title prediction task.\n",
        "\n",
        "\n",
        "\n",
        "\n",
        "\n",
        "\n"
      ],
      "metadata": {
        "id": "mDjJb-kFXQUy"
      }
    },
    {
      "metadata": {
        "trusted": true,
        "id": "cBZipBT2vaei"
      },
      "cell_type": "code",
      "source": [
        "df = df.drop(['function'], axis=1)"
      ],
      "execution_count": 10,
      "outputs": []
    },
    {
      "metadata": {
        "trusted": true,
        "id": "E8CP_f1vvaek",
        "outputId": "6ab44143-b75e-45a5-e2b8-f9a59eb5cde9",
        "colab": {
          "base_uri": "https://localhost:8080/",
          "height": 363
        }
      },
      "cell_type": "code",
      "source": [
        "import random\n",
        "random_idx_list = [random.randint(1,len(df.jds)) for i in range(10)] # creates random indexes to choose from dataframe\n",
        "df.loc[random_idx_list,:].head(10) # Returns the rows with the index and display it"
      ],
      "execution_count": 14,
      "outputs": [
        {
          "output_type": "execute_result",
          "data": {
            "text/plain": [
              "                                              job_title  \\\n",
              "5476                  Clinical Trial Reporting/analysis   \n",
              "9512                      Sr Engineer/dy Manager Design   \n",
              "7466                   Manager Logistics & Supply Chain   \n",
              "9508                                  Manager -Material   \n",
              "5900  Agm - Commerical & Contracts, Procurement - Ra...   \n",
              "8620                        Dy.manager-cost Controlling   \n",
              "8659                            Design Engineer/Manager   \n",
              "6761                Senior Flash Programmer (eLearning)   \n",
              "9028                Franchisee Director - International   \n",
              "5148                                   AVP - Networking   \n",
              "\n",
              "                                                    jds  \n",
              "5476  Requirement:  We are looking for a candidate w...  \n",
              "9512                                                NaN  \n",
              "7466  Planning routes and load scheduling for multi-...  \n",
              "9508  Job description:- * Agency Development Â®istra...  \n",
              "5900  BE/B.Tech Civil, 15-20 Years- Experience in Ha...  \n",
              "8620  Ensure all the issues related to Import & Expo...  \n",
              "8659  1.Must have experience in process, design & pr...  \n",
              "6761  Specification / Skills / Experience  Understan...  \n",
              "9028  The Retail Chain currently has around 2000 Out...  \n",
              "5148  Network Infrastructure Management for large WA...  "
            ],
            "text/html": [
              "\n",
              "  <div id=\"df-ef3b0a4c-32ae-4d50-a5ef-52ffe3badfff\" class=\"colab-df-container\">\n",
              "    <div>\n",
              "<style scoped>\n",
              "    .dataframe tbody tr th:only-of-type {\n",
              "        vertical-align: middle;\n",
              "    }\n",
              "\n",
              "    .dataframe tbody tr th {\n",
              "        vertical-align: top;\n",
              "    }\n",
              "\n",
              "    .dataframe thead th {\n",
              "        text-align: right;\n",
              "    }\n",
              "</style>\n",
              "<table border=\"1\" class=\"dataframe\">\n",
              "  <thead>\n",
              "    <tr style=\"text-align: right;\">\n",
              "      <th></th>\n",
              "      <th>job_title</th>\n",
              "      <th>jds</th>\n",
              "    </tr>\n",
              "  </thead>\n",
              "  <tbody>\n",
              "    <tr>\n",
              "      <th>5476</th>\n",
              "      <td>Clinical Trial Reporting/analysis</td>\n",
              "      <td>Requirement:  We are looking for a candidate w...</td>\n",
              "    </tr>\n",
              "    <tr>\n",
              "      <th>9512</th>\n",
              "      <td>Sr Engineer/dy Manager Design</td>\n",
              "      <td>NaN</td>\n",
              "    </tr>\n",
              "    <tr>\n",
              "      <th>7466</th>\n",
              "      <td>Manager Logistics &amp; Supply Chain</td>\n",
              "      <td>Planning routes and load scheduling for multi-...</td>\n",
              "    </tr>\n",
              "    <tr>\n",
              "      <th>9508</th>\n",
              "      <td>Manager -Material</td>\n",
              "      <td>Job description:- * Agency Development Â®istra...</td>\n",
              "    </tr>\n",
              "    <tr>\n",
              "      <th>5900</th>\n",
              "      <td>Agm - Commerical &amp; Contracts, Procurement - Ra...</td>\n",
              "      <td>BE/B.Tech Civil, 15-20 Years- Experience in Ha...</td>\n",
              "    </tr>\n",
              "    <tr>\n",
              "      <th>8620</th>\n",
              "      <td>Dy.manager-cost Controlling</td>\n",
              "      <td>Ensure all the issues related to Import &amp; Expo...</td>\n",
              "    </tr>\n",
              "    <tr>\n",
              "      <th>8659</th>\n",
              "      <td>Design Engineer/Manager</td>\n",
              "      <td>1.Must have experience in process, design &amp; pr...</td>\n",
              "    </tr>\n",
              "    <tr>\n",
              "      <th>6761</th>\n",
              "      <td>Senior Flash Programmer (eLearning)</td>\n",
              "      <td>Specification / Skills / Experience  Understan...</td>\n",
              "    </tr>\n",
              "    <tr>\n",
              "      <th>9028</th>\n",
              "      <td>Franchisee Director - International</td>\n",
              "      <td>The Retail Chain currently has around 2000 Out...</td>\n",
              "    </tr>\n",
              "    <tr>\n",
              "      <th>5148</th>\n",
              "      <td>AVP - Networking</td>\n",
              "      <td>Network Infrastructure Management for large WA...</td>\n",
              "    </tr>\n",
              "  </tbody>\n",
              "</table>\n",
              "</div>\n",
              "    <div class=\"colab-df-buttons\">\n",
              "\n",
              "  <div class=\"colab-df-container\">\n",
              "    <button class=\"colab-df-convert\" onclick=\"convertToInteractive('df-ef3b0a4c-32ae-4d50-a5ef-52ffe3badfff')\"\n",
              "            title=\"Convert this dataframe to an interactive table.\"\n",
              "            style=\"display:none;\">\n",
              "\n",
              "  <svg xmlns=\"http://www.w3.org/2000/svg\" height=\"24px\" viewBox=\"0 -960 960 960\">\n",
              "    <path d=\"M120-120v-720h720v720H120Zm60-500h600v-160H180v160Zm220 220h160v-160H400v160Zm0 220h160v-160H400v160ZM180-400h160v-160H180v160Zm440 0h160v-160H620v160ZM180-180h160v-160H180v160Zm440 0h160v-160H620v160Z\"/>\n",
              "  </svg>\n",
              "    </button>\n",
              "\n",
              "  <style>\n",
              "    .colab-df-container {\n",
              "      display:flex;\n",
              "      gap: 12px;\n",
              "    }\n",
              "\n",
              "    .colab-df-convert {\n",
              "      background-color: #E8F0FE;\n",
              "      border: none;\n",
              "      border-radius: 50%;\n",
              "      cursor: pointer;\n",
              "      display: none;\n",
              "      fill: #1967D2;\n",
              "      height: 32px;\n",
              "      padding: 0 0 0 0;\n",
              "      width: 32px;\n",
              "    }\n",
              "\n",
              "    .colab-df-convert:hover {\n",
              "      background-color: #E2EBFA;\n",
              "      box-shadow: 0px 1px 2px rgba(60, 64, 67, 0.3), 0px 1px 3px 1px rgba(60, 64, 67, 0.15);\n",
              "      fill: #174EA6;\n",
              "    }\n",
              "\n",
              "    .colab-df-buttons div {\n",
              "      margin-bottom: 4px;\n",
              "    }\n",
              "\n",
              "    [theme=dark] .colab-df-convert {\n",
              "      background-color: #3B4455;\n",
              "      fill: #D2E3FC;\n",
              "    }\n",
              "\n",
              "    [theme=dark] .colab-df-convert:hover {\n",
              "      background-color: #434B5C;\n",
              "      box-shadow: 0px 1px 3px 1px rgba(0, 0, 0, 0.15);\n",
              "      filter: drop-shadow(0px 1px 2px rgba(0, 0, 0, 0.3));\n",
              "      fill: #FFFFFF;\n",
              "    }\n",
              "  </style>\n",
              "\n",
              "    <script>\n",
              "      const buttonEl =\n",
              "        document.querySelector('#df-ef3b0a4c-32ae-4d50-a5ef-52ffe3badfff button.colab-df-convert');\n",
              "      buttonEl.style.display =\n",
              "        google.colab.kernel.accessAllowed ? 'block' : 'none';\n",
              "\n",
              "      async function convertToInteractive(key) {\n",
              "        const element = document.querySelector('#df-ef3b0a4c-32ae-4d50-a5ef-52ffe3badfff');\n",
              "        const dataTable =\n",
              "          await google.colab.kernel.invokeFunction('convertToInteractive',\n",
              "                                                    [key], {});\n",
              "        if (!dataTable) return;\n",
              "\n",
              "        const docLinkHtml = 'Like what you see? Visit the ' +\n",
              "          '<a target=\"_blank\" href=https://colab.research.google.com/notebooks/data_table.ipynb>data table notebook</a>'\n",
              "          + ' to learn more about interactive tables.';\n",
              "        element.innerHTML = '';\n",
              "        dataTable['output_type'] = 'display_data';\n",
              "        await google.colab.output.renderOutput(dataTable, element);\n",
              "        const docLink = document.createElement('div');\n",
              "        docLink.innerHTML = docLinkHtml;\n",
              "        element.appendChild(docLink);\n",
              "      }\n",
              "    </script>\n",
              "  </div>\n",
              "\n",
              "\n",
              "<div id=\"df-a8a2b4d9-3aa4-4d71-96eb-acd243bf1c98\">\n",
              "  <button class=\"colab-df-quickchart\" onclick=\"quickchart('df-a8a2b4d9-3aa4-4d71-96eb-acd243bf1c98')\"\n",
              "            title=\"Suggest charts\"\n",
              "            style=\"display:none;\">\n",
              "\n",
              "<svg xmlns=\"http://www.w3.org/2000/svg\" height=\"24px\"viewBox=\"0 0 24 24\"\n",
              "     width=\"24px\">\n",
              "    <g>\n",
              "        <path d=\"M19 3H5c-1.1 0-2 .9-2 2v14c0 1.1.9 2 2 2h14c1.1 0 2-.9 2-2V5c0-1.1-.9-2-2-2zM9 17H7v-7h2v7zm4 0h-2V7h2v10zm4 0h-2v-4h2v4z\"/>\n",
              "    </g>\n",
              "</svg>\n",
              "  </button>\n",
              "\n",
              "<style>\n",
              "  .colab-df-quickchart {\n",
              "      --bg-color: #E8F0FE;\n",
              "      --fill-color: #1967D2;\n",
              "      --hover-bg-color: #E2EBFA;\n",
              "      --hover-fill-color: #174EA6;\n",
              "      --disabled-fill-color: #AAA;\n",
              "      --disabled-bg-color: #DDD;\n",
              "  }\n",
              "\n",
              "  [theme=dark] .colab-df-quickchart {\n",
              "      --bg-color: #3B4455;\n",
              "      --fill-color: #D2E3FC;\n",
              "      --hover-bg-color: #434B5C;\n",
              "      --hover-fill-color: #FFFFFF;\n",
              "      --disabled-bg-color: #3B4455;\n",
              "      --disabled-fill-color: #666;\n",
              "  }\n",
              "\n",
              "  .colab-df-quickchart {\n",
              "    background-color: var(--bg-color);\n",
              "    border: none;\n",
              "    border-radius: 50%;\n",
              "    cursor: pointer;\n",
              "    display: none;\n",
              "    fill: var(--fill-color);\n",
              "    height: 32px;\n",
              "    padding: 0;\n",
              "    width: 32px;\n",
              "  }\n",
              "\n",
              "  .colab-df-quickchart:hover {\n",
              "    background-color: var(--hover-bg-color);\n",
              "    box-shadow: 0 1px 2px rgba(60, 64, 67, 0.3), 0 1px 3px 1px rgba(60, 64, 67, 0.15);\n",
              "    fill: var(--button-hover-fill-color);\n",
              "  }\n",
              "\n",
              "  .colab-df-quickchart-complete:disabled,\n",
              "  .colab-df-quickchart-complete:disabled:hover {\n",
              "    background-color: var(--disabled-bg-color);\n",
              "    fill: var(--disabled-fill-color);\n",
              "    box-shadow: none;\n",
              "  }\n",
              "\n",
              "  .colab-df-spinner {\n",
              "    border: 2px solid var(--fill-color);\n",
              "    border-color: transparent;\n",
              "    border-bottom-color: var(--fill-color);\n",
              "    animation:\n",
              "      spin 1s steps(1) infinite;\n",
              "  }\n",
              "\n",
              "  @keyframes spin {\n",
              "    0% {\n",
              "      border-color: transparent;\n",
              "      border-bottom-color: var(--fill-color);\n",
              "      border-left-color: var(--fill-color);\n",
              "    }\n",
              "    20% {\n",
              "      border-color: transparent;\n",
              "      border-left-color: var(--fill-color);\n",
              "      border-top-color: var(--fill-color);\n",
              "    }\n",
              "    30% {\n",
              "      border-color: transparent;\n",
              "      border-left-color: var(--fill-color);\n",
              "      border-top-color: var(--fill-color);\n",
              "      border-right-color: var(--fill-color);\n",
              "    }\n",
              "    40% {\n",
              "      border-color: transparent;\n",
              "      border-right-color: var(--fill-color);\n",
              "      border-top-color: var(--fill-color);\n",
              "    }\n",
              "    60% {\n",
              "      border-color: transparent;\n",
              "      border-right-color: var(--fill-color);\n",
              "    }\n",
              "    80% {\n",
              "      border-color: transparent;\n",
              "      border-right-color: var(--fill-color);\n",
              "      border-bottom-color: var(--fill-color);\n",
              "    }\n",
              "    90% {\n",
              "      border-color: transparent;\n",
              "      border-bottom-color: var(--fill-color);\n",
              "    }\n",
              "  }\n",
              "</style>\n",
              "\n",
              "  <script>\n",
              "    async function quickchart(key) {\n",
              "      const quickchartButtonEl =\n",
              "        document.querySelector('#' + key + ' button');\n",
              "      quickchartButtonEl.disabled = true;  // To prevent multiple clicks.\n",
              "      quickchartButtonEl.classList.add('colab-df-spinner');\n",
              "      try {\n",
              "        const charts = await google.colab.kernel.invokeFunction(\n",
              "            'suggestCharts', [key], {});\n",
              "      } catch (error) {\n",
              "        console.error('Error during call to suggestCharts:', error);\n",
              "      }\n",
              "      quickchartButtonEl.classList.remove('colab-df-spinner');\n",
              "      quickchartButtonEl.classList.add('colab-df-quickchart-complete');\n",
              "    }\n",
              "    (() => {\n",
              "      let quickchartButtonEl =\n",
              "        document.querySelector('#df-a8a2b4d9-3aa4-4d71-96eb-acd243bf1c98 button');\n",
              "      quickchartButtonEl.style.display =\n",
              "        google.colab.kernel.accessAllowed ? 'block' : 'none';\n",
              "    })();\n",
              "  </script>\n",
              "</div>\n",
              "\n",
              "    </div>\n",
              "  </div>\n"
            ],
            "application/vnd.google.colaboratory.intrinsic+json": {
              "type": "dataframe",
              "summary": "{\n  \"name\": \"df\",\n  \"rows\": 10,\n  \"fields\": [\n    {\n      \"column\": \"job_title\",\n      \"properties\": {\n        \"dtype\": \"string\",\n        \"num_unique_values\": 10,\n        \"samples\": [\n          \"Franchisee Director - International\",\n          \"Sr Engineer/dy Manager Design\",\n          \"Dy.manager-cost Controlling\"\n        ],\n        \"semantic_type\": \"\",\n        \"description\": \"\"\n      }\n    },\n    {\n      \"column\": \"jds\",\n      \"properties\": {\n        \"dtype\": \"string\",\n        \"num_unique_values\": 9,\n        \"samples\": [\n          \"The Retail Chain currently has around 2000 Outlets in India and additionally they have around 20 outlets Internationally.  The role is to lead the current operations of 20 outlets in the International business and build on it. It will not be an aggressive build, but a steady foot print expansion, with well known players in the International market.  The incumbent should have a strong experience in the F&B / Coffee business Retail format.  The person would be involved in running the P&L for the International Operations, business development, develop alliances and expand the revenue base and foot print for the International business.  The ideal incumbent should have very strong experience in business expansion in Coffee Retail Chain and F&B Retail business, preferably in the Middle East and Africa, APAC or Europe region.  Only candidates who have relevant experience in the International Market in F&B / Coffee business Retail format may apply.\",\n          \"Planning routes and load scheduling for multi-drop deliveries. Booking in deliveries and liaising with customers. Allocating and recording resources and movements on the transport planning system. Ensuring all partners in the supply chain are working effectively and efficiently to ensure smooth operations. Communicating effectively with clients and responding to their requirements. Booking sub-contractors and ensuring they deliver within agreed terms.  Transport management:  Directing all transportation activities. Developing transportation relationships. Monitoring transport costs. Negotiating and bargaining transportation prices. Dealing with the effects of congestion\",\n          \"1.Must have experience in process, design & project in chemical industries. 2.Proven track record of completion of Green field project & running of batch process plant. 3.Review of basic & detailed engineering documents. 4.Must have experience to run pilot plant & convert the pilot plant technology to main plant without off spec generation of material. 5.Willing to travel across the world for technology transfer. 6.Making energy & mass balance. 7.Actively participate in HAZOP Study, ensure all safety measures & compliance in pilot plant Good communication skill\"\n        ],\n        \"semantic_type\": \"\",\n        \"description\": \"\"\n      }\n    }\n  ]\n}"
            }
          },
          "metadata": {},
          "execution_count": 14
        }
      ]
    },
    {
      "cell_type": "markdown",
      "source": [
        "Found how many NaN values are there. So, there is NaN values only in jds. So, to be more precise I dropped those rows."
      ],
      "metadata": {
        "id": "PzO0_0bsXpNg"
      }
    },
    {
      "cell_type": "code",
      "source": [
        "missing_jds = df['jds'].isnull().sum()\n",
        "total_rows = df.shape[0]\n",
        "# print(missing_jds)\n",
        "# Calculate the percentage of missing values\n",
        "percentage_missing = (missing_jds / total_rows) * 100\n",
        "\n",
        "print(\"Percentage of missing values in 'jds' column:\", percentage_missing)\n"
      ],
      "metadata": {
        "id": "nxEqry1TyNyf",
        "outputId": "0e5253ac-4d6f-4f48-97ca-723c55e00642",
        "colab": {
          "base_uri": "https://localhost:8080/"
        }
      },
      "execution_count": 15,
      "outputs": [
        {
          "output_type": "stream",
          "name": "stdout",
          "text": [
            "Percentage of missing values in 'jds' column: 17.703302119270575\n"
          ]
        }
      ]
    },
    {
      "cell_type": "code",
      "source": [
        "print(\"Number of rows before dropping missing values:\", len(df))\n",
        "\n",
        "# Drop rows with missing values in the 'jds' column\n",
        "df.dropna(subset=['jds'], inplace=True)\n",
        "\n",
        "# Confirm that missing values have been dropped\n",
        "print(\"Number of rows after dropping missing values:\", len(df))"
      ],
      "metadata": {
        "id": "IG98jnSWydyi",
        "outputId": "f507d124-18cc-4ec6-9955-7cea4cadfe9e",
        "colab": {
          "base_uri": "https://localhost:8080/"
        }
      },
      "execution_count": 16,
      "outputs": [
        {
          "output_type": "stream",
          "name": "stdout",
          "text": [
            "Number of rows before dropping missing values: 10145\n",
            "Number of rows after dropping missing values: 8349\n"
          ]
        }
      ]
    },
    {
      "cell_type": "markdown",
      "source": [
        "The goal here is to standardise all characters to avoid case sensitive error. Some functions are case sensitive and a means to reduce the risk of error is to standardise all of the text to lower case. In this particular experiment, case is not meaningful to the model and it is therefore acceptable to apply lower case to all of the data."
      ],
      "metadata": {
        "id": "KaqNJpD6YPhs"
      }
    },
    {
      "cell_type": "code",
      "source": [
        "df['jds'] = df['jds'].str.lower()\n",
        "df.head(10)"
      ],
      "metadata": {
        "id": "dWYnsilmyinJ",
        "outputId": "22565397-350d-4f63-9b53-b2ea0af6701f",
        "colab": {
          "base_uri": "https://localhost:8080/",
          "height": 363
        }
      },
      "execution_count": 17,
      "outputs": [
        {
          "output_type": "execute_result",
          "data": {
            "text/plain": [
              "                             job_title  \\\n",
              "1                        Software Head   \n",
              "2                    iPhone Developers   \n",
              "3               Html/css Developer Job   \n",
              "4                Asp.net Developer Job   \n",
              "6                  AS\\400 Professional   \n",
              "8   Inside Sales Account Manager - MNC   \n",
              "9                 VFX Artist/ Designer   \n",
              "10                   Graphics Engineer   \n",
              "13                        UI Developer   \n",
              "14     Unity3D Developer - iOS/Android   \n",
              "\n",
              "                                                  jds  \n",
              "1   10-15 years of experience in a vfx facility ad...  \n",
              "2   candidate should have strong oo design and pro...  \n",
              "3   job description must have at -least . years ex...  \n",
              "4   develop asp.netweb applicationsperform unit te...  \n",
              "6   job description  job holder may need to work o...  \n",
              "8   job description  primary roe of inside sales a...  \n",
              "9   reporting to: design leader  purpose: to conve...  \n",
              "10  role : graphics software engineer  education :...  \n",
              "13                            job title: ui developer  \n",
              "14  looking for an unity3d developer who will be w...  "
            ],
            "text/html": [
              "\n",
              "  <div id=\"df-8e2592c1-aa9b-4672-86f8-6c61062ac5c2\" class=\"colab-df-container\">\n",
              "    <div>\n",
              "<style scoped>\n",
              "    .dataframe tbody tr th:only-of-type {\n",
              "        vertical-align: middle;\n",
              "    }\n",
              "\n",
              "    .dataframe tbody tr th {\n",
              "        vertical-align: top;\n",
              "    }\n",
              "\n",
              "    .dataframe thead th {\n",
              "        text-align: right;\n",
              "    }\n",
              "</style>\n",
              "<table border=\"1\" class=\"dataframe\">\n",
              "  <thead>\n",
              "    <tr style=\"text-align: right;\">\n",
              "      <th></th>\n",
              "      <th>job_title</th>\n",
              "      <th>jds</th>\n",
              "    </tr>\n",
              "  </thead>\n",
              "  <tbody>\n",
              "    <tr>\n",
              "      <th>1</th>\n",
              "      <td>Software Head</td>\n",
              "      <td>10-15 years of experience in a vfx facility ad...</td>\n",
              "    </tr>\n",
              "    <tr>\n",
              "      <th>2</th>\n",
              "      <td>iPhone Developers</td>\n",
              "      <td>candidate should have strong oo design and pro...</td>\n",
              "    </tr>\n",
              "    <tr>\n",
              "      <th>3</th>\n",
              "      <td>Html/css Developer Job</td>\n",
              "      <td>job description must have at -least . years ex...</td>\n",
              "    </tr>\n",
              "    <tr>\n",
              "      <th>4</th>\n",
              "      <td>Asp.net Developer Job</td>\n",
              "      <td>develop asp.netweb applicationsperform unit te...</td>\n",
              "    </tr>\n",
              "    <tr>\n",
              "      <th>6</th>\n",
              "      <td>AS\\400 Professional</td>\n",
              "      <td>job description  job holder may need to work o...</td>\n",
              "    </tr>\n",
              "    <tr>\n",
              "      <th>8</th>\n",
              "      <td>Inside Sales Account Manager - MNC</td>\n",
              "      <td>job description  primary roe of inside sales a...</td>\n",
              "    </tr>\n",
              "    <tr>\n",
              "      <th>9</th>\n",
              "      <td>VFX Artist/ Designer</td>\n",
              "      <td>reporting to: design leader  purpose: to conve...</td>\n",
              "    </tr>\n",
              "    <tr>\n",
              "      <th>10</th>\n",
              "      <td>Graphics Engineer</td>\n",
              "      <td>role : graphics software engineer  education :...</td>\n",
              "    </tr>\n",
              "    <tr>\n",
              "      <th>13</th>\n",
              "      <td>UI Developer</td>\n",
              "      <td>job title: ui developer</td>\n",
              "    </tr>\n",
              "    <tr>\n",
              "      <th>14</th>\n",
              "      <td>Unity3D Developer - iOS/Android</td>\n",
              "      <td>looking for an unity3d developer who will be w...</td>\n",
              "    </tr>\n",
              "  </tbody>\n",
              "</table>\n",
              "</div>\n",
              "    <div class=\"colab-df-buttons\">\n",
              "\n",
              "  <div class=\"colab-df-container\">\n",
              "    <button class=\"colab-df-convert\" onclick=\"convertToInteractive('df-8e2592c1-aa9b-4672-86f8-6c61062ac5c2')\"\n",
              "            title=\"Convert this dataframe to an interactive table.\"\n",
              "            style=\"display:none;\">\n",
              "\n",
              "  <svg xmlns=\"http://www.w3.org/2000/svg\" height=\"24px\" viewBox=\"0 -960 960 960\">\n",
              "    <path d=\"M120-120v-720h720v720H120Zm60-500h600v-160H180v160Zm220 220h160v-160H400v160Zm0 220h160v-160H400v160ZM180-400h160v-160H180v160Zm440 0h160v-160H620v160ZM180-180h160v-160H180v160Zm440 0h160v-160H620v160Z\"/>\n",
              "  </svg>\n",
              "    </button>\n",
              "\n",
              "  <style>\n",
              "    .colab-df-container {\n",
              "      display:flex;\n",
              "      gap: 12px;\n",
              "    }\n",
              "\n",
              "    .colab-df-convert {\n",
              "      background-color: #E8F0FE;\n",
              "      border: none;\n",
              "      border-radius: 50%;\n",
              "      cursor: pointer;\n",
              "      display: none;\n",
              "      fill: #1967D2;\n",
              "      height: 32px;\n",
              "      padding: 0 0 0 0;\n",
              "      width: 32px;\n",
              "    }\n",
              "\n",
              "    .colab-df-convert:hover {\n",
              "      background-color: #E2EBFA;\n",
              "      box-shadow: 0px 1px 2px rgba(60, 64, 67, 0.3), 0px 1px 3px 1px rgba(60, 64, 67, 0.15);\n",
              "      fill: #174EA6;\n",
              "    }\n",
              "\n",
              "    .colab-df-buttons div {\n",
              "      margin-bottom: 4px;\n",
              "    }\n",
              "\n",
              "    [theme=dark] .colab-df-convert {\n",
              "      background-color: #3B4455;\n",
              "      fill: #D2E3FC;\n",
              "    }\n",
              "\n",
              "    [theme=dark] .colab-df-convert:hover {\n",
              "      background-color: #434B5C;\n",
              "      box-shadow: 0px 1px 3px 1px rgba(0, 0, 0, 0.15);\n",
              "      filter: drop-shadow(0px 1px 2px rgba(0, 0, 0, 0.3));\n",
              "      fill: #FFFFFF;\n",
              "    }\n",
              "  </style>\n",
              "\n",
              "    <script>\n",
              "      const buttonEl =\n",
              "        document.querySelector('#df-8e2592c1-aa9b-4672-86f8-6c61062ac5c2 button.colab-df-convert');\n",
              "      buttonEl.style.display =\n",
              "        google.colab.kernel.accessAllowed ? 'block' : 'none';\n",
              "\n",
              "      async function convertToInteractive(key) {\n",
              "        const element = document.querySelector('#df-8e2592c1-aa9b-4672-86f8-6c61062ac5c2');\n",
              "        const dataTable =\n",
              "          await google.colab.kernel.invokeFunction('convertToInteractive',\n",
              "                                                    [key], {});\n",
              "        if (!dataTable) return;\n",
              "\n",
              "        const docLinkHtml = 'Like what you see? Visit the ' +\n",
              "          '<a target=\"_blank\" href=https://colab.research.google.com/notebooks/data_table.ipynb>data table notebook</a>'\n",
              "          + ' to learn more about interactive tables.';\n",
              "        element.innerHTML = '';\n",
              "        dataTable['output_type'] = 'display_data';\n",
              "        await google.colab.output.renderOutput(dataTable, element);\n",
              "        const docLink = document.createElement('div');\n",
              "        docLink.innerHTML = docLinkHtml;\n",
              "        element.appendChild(docLink);\n",
              "      }\n",
              "    </script>\n",
              "  </div>\n",
              "\n",
              "\n",
              "<div id=\"df-4448add8-8fe5-4b0e-877b-f0e38afcaee8\">\n",
              "  <button class=\"colab-df-quickchart\" onclick=\"quickchart('df-4448add8-8fe5-4b0e-877b-f0e38afcaee8')\"\n",
              "            title=\"Suggest charts\"\n",
              "            style=\"display:none;\">\n",
              "\n",
              "<svg xmlns=\"http://www.w3.org/2000/svg\" height=\"24px\"viewBox=\"0 0 24 24\"\n",
              "     width=\"24px\">\n",
              "    <g>\n",
              "        <path d=\"M19 3H5c-1.1 0-2 .9-2 2v14c0 1.1.9 2 2 2h14c1.1 0 2-.9 2-2V5c0-1.1-.9-2-2-2zM9 17H7v-7h2v7zm4 0h-2V7h2v10zm4 0h-2v-4h2v4z\"/>\n",
              "    </g>\n",
              "</svg>\n",
              "  </button>\n",
              "\n",
              "<style>\n",
              "  .colab-df-quickchart {\n",
              "      --bg-color: #E8F0FE;\n",
              "      --fill-color: #1967D2;\n",
              "      --hover-bg-color: #E2EBFA;\n",
              "      --hover-fill-color: #174EA6;\n",
              "      --disabled-fill-color: #AAA;\n",
              "      --disabled-bg-color: #DDD;\n",
              "  }\n",
              "\n",
              "  [theme=dark] .colab-df-quickchart {\n",
              "      --bg-color: #3B4455;\n",
              "      --fill-color: #D2E3FC;\n",
              "      --hover-bg-color: #434B5C;\n",
              "      --hover-fill-color: #FFFFFF;\n",
              "      --disabled-bg-color: #3B4455;\n",
              "      --disabled-fill-color: #666;\n",
              "  }\n",
              "\n",
              "  .colab-df-quickchart {\n",
              "    background-color: var(--bg-color);\n",
              "    border: none;\n",
              "    border-radius: 50%;\n",
              "    cursor: pointer;\n",
              "    display: none;\n",
              "    fill: var(--fill-color);\n",
              "    height: 32px;\n",
              "    padding: 0;\n",
              "    width: 32px;\n",
              "  }\n",
              "\n",
              "  .colab-df-quickchart:hover {\n",
              "    background-color: var(--hover-bg-color);\n",
              "    box-shadow: 0 1px 2px rgba(60, 64, 67, 0.3), 0 1px 3px 1px rgba(60, 64, 67, 0.15);\n",
              "    fill: var(--button-hover-fill-color);\n",
              "  }\n",
              "\n",
              "  .colab-df-quickchart-complete:disabled,\n",
              "  .colab-df-quickchart-complete:disabled:hover {\n",
              "    background-color: var(--disabled-bg-color);\n",
              "    fill: var(--disabled-fill-color);\n",
              "    box-shadow: none;\n",
              "  }\n",
              "\n",
              "  .colab-df-spinner {\n",
              "    border: 2px solid var(--fill-color);\n",
              "    border-color: transparent;\n",
              "    border-bottom-color: var(--fill-color);\n",
              "    animation:\n",
              "      spin 1s steps(1) infinite;\n",
              "  }\n",
              "\n",
              "  @keyframes spin {\n",
              "    0% {\n",
              "      border-color: transparent;\n",
              "      border-bottom-color: var(--fill-color);\n",
              "      border-left-color: var(--fill-color);\n",
              "    }\n",
              "    20% {\n",
              "      border-color: transparent;\n",
              "      border-left-color: var(--fill-color);\n",
              "      border-top-color: var(--fill-color);\n",
              "    }\n",
              "    30% {\n",
              "      border-color: transparent;\n",
              "      border-left-color: var(--fill-color);\n",
              "      border-top-color: var(--fill-color);\n",
              "      border-right-color: var(--fill-color);\n",
              "    }\n",
              "    40% {\n",
              "      border-color: transparent;\n",
              "      border-right-color: var(--fill-color);\n",
              "      border-top-color: var(--fill-color);\n",
              "    }\n",
              "    60% {\n",
              "      border-color: transparent;\n",
              "      border-right-color: var(--fill-color);\n",
              "    }\n",
              "    80% {\n",
              "      border-color: transparent;\n",
              "      border-right-color: var(--fill-color);\n",
              "      border-bottom-color: var(--fill-color);\n",
              "    }\n",
              "    90% {\n",
              "      border-color: transparent;\n",
              "      border-bottom-color: var(--fill-color);\n",
              "    }\n",
              "  }\n",
              "</style>\n",
              "\n",
              "  <script>\n",
              "    async function quickchart(key) {\n",
              "      const quickchartButtonEl =\n",
              "        document.querySelector('#' + key + ' button');\n",
              "      quickchartButtonEl.disabled = true;  // To prevent multiple clicks.\n",
              "      quickchartButtonEl.classList.add('colab-df-spinner');\n",
              "      try {\n",
              "        const charts = await google.colab.kernel.invokeFunction(\n",
              "            'suggestCharts', [key], {});\n",
              "      } catch (error) {\n",
              "        console.error('Error during call to suggestCharts:', error);\n",
              "      }\n",
              "      quickchartButtonEl.classList.remove('colab-df-spinner');\n",
              "      quickchartButtonEl.classList.add('colab-df-quickchart-complete');\n",
              "    }\n",
              "    (() => {\n",
              "      let quickchartButtonEl =\n",
              "        document.querySelector('#df-4448add8-8fe5-4b0e-877b-f0e38afcaee8 button');\n",
              "      quickchartButtonEl.style.display =\n",
              "        google.colab.kernel.accessAllowed ? 'block' : 'none';\n",
              "    })();\n",
              "  </script>\n",
              "</div>\n",
              "\n",
              "    </div>\n",
              "  </div>\n"
            ],
            "application/vnd.google.colaboratory.intrinsic+json": {
              "type": "dataframe",
              "variable_name": "df",
              "summary": "{\n  \"name\": \"df\",\n  \"rows\": 8349,\n  \"fields\": [\n    {\n      \"column\": \"job_title\",\n      \"properties\": {\n        \"dtype\": \"string\",\n        \"num_unique_values\": 5976,\n        \"samples\": [\n          \"Prinicipal Software Development Engineer-java\",\n          \"Legal Head\",\n          \"Key Account Manager\"\n        ],\n        \"semantic_type\": \"\",\n        \"description\": \"\"\n      }\n    },\n    {\n      \"column\": \"jds\",\n      \"properties\": {\n        \"dtype\": \"string\",\n        \"num_unique_values\": 6843,\n        \"samples\": [\n          \"at least 2 to 4 years in integration space. should have worked on mule esb / mule soft. good understanding of architectural components of mule esb and jboss soa suite.knowledge of integration/fundamentals of service oriented architecture(soa).proficient in web services/role web services play within an soa.familiar with standards such as wsdl,soap,xml and web services for java platform,enterprise edition.understanding of the eclipse development environment.basic knowledge of java programming  total experience: min. 2 to max. 8 yrs  level / designations: se, sse, team lead.\",\n          \"the person will be based in pune and will be responsible for:  c microsoft visual studio os & rtos concepts bsp knowledge for any one of the rtos ( vxworks, integrity,ni ets ) able to create high & low level software design for \\\"device driver & application\\\" linux/solaris device driver & application programing knowledge windows device driver & application programing (win ddk ) knowledge understand bus device driver ( pci, pcie, & usb) understand serial/ethernet communication (specifically socket programing ) familiar with linux environment & build system ide (i.e. makefile ,cross compilation) familiar with linux application debugging using tool (gdb) on linux platform multi threaded application with inter process communication & synchronization knowledge processor architecture knowledge: 32/64 bit (arm, power pc, x86) hardware debugging tools(dso,jtag, multimeter etc.. ) & hardware schematic understanding able to understand the business requirements and converting them into solution designs identify risks in the requirements and technical implementations and come up with quick poc if required identify and manage project dependencies and critical path develop and deliver progress reports, technical proposals, requirements documentation.\",\n          \"export trade operations management of products like starch, soya by-product, sorbitol etc. international market research analysis of customer research,current market conditions & competitor information export commercial activity candidate must have mba in international marketing with any graduate having 15 to 20 years of experience in any reputed industry.  candidate prefer from soya food products manufacturing industry.\"\n        ],\n        \"semantic_type\": \"\",\n        \"description\": \"\"\n      }\n    }\n  ]\n}"
            }
          },
          "metadata": {},
          "execution_count": 17
        }
      ]
    },
    {
      "metadata": {
        "id": "Fi17ioBgvael"
      },
      "cell_type": "markdown",
      "source": [
        "### Stemming/ Lematization\n",
        "For grammatical reasons, documents are going to use different forms of a word, such as *write, writing and writes.* Additionally, there are families of derivationally related words with similar meanings. The goal of both stemming and lemmatization is to reduce inflectional forms and sometimes derivationally related forms of a word to a common base form.\n",
        "\n",
        "Stemming usually refers to a process that chops off the ends of words in the hope of achieving goal correctly most of the time and often includes the removal of derivational affixes.\n",
        "\n",
        "Lemmatization usually refers to doing things properly with the use of a vocabulary and morphological analysis of words, normally aiming to remove inflectional endings only and to return the base and dictionary form of a word\n",
        "![Stemming and Lematization](https://qph.fs.quoracdn.net/main-qimg-cd7f4bafaa42639deb999b1580bea69f)\n",
        "\n"
      ]
    },
    {
      "metadata": {
        "trusted": true,
        "id": "ZYPgPVTRvael"
      },
      "cell_type": "code",
      "source": [
        "stop_words = stopwords.words('english')\n",
        "stemmer = SnowballStemmer('english')\n",
        "\n",
        "text_cleaning_re = \"@\\S+|https?:\\S+|http?:\\S|[^A-Za-z0-9]+\""
      ],
      "execution_count": 18,
      "outputs": []
    },
    {
      "metadata": {
        "trusted": true,
        "id": "p1c_Rhe1vael"
      },
      "cell_type": "code",
      "source": [
        "def preprocess(text, stem=False):\n",
        "  text = re.sub(text_cleaning_re, ' ', str(text).lower()).strip()\n",
        "  tokens = []\n",
        "  for token in text.split():\n",
        "    if token not in stop_words:\n",
        "      if stem:\n",
        "        tokens.append(stemmer.stem(token))\n",
        "      else:\n",
        "        tokens.append(token)\n",
        "  return \" \".join(tokens)"
      ],
      "execution_count": 19,
      "outputs": []
    },
    {
      "metadata": {
        "trusted": true,
        "id": "IngKoUzDvael"
      },
      "cell_type": "code",
      "source": [
        "df.jds = df.jds.apply(lambda x: preprocess(x))"
      ],
      "execution_count": 20,
      "outputs": []
    },
    {
      "cell_type": "code",
      "source": [
        "import matplotlib.pyplot as plt\n",
        "\n",
        "# Aggregate the job titles and count their occurrences\n",
        "job_title_counts = df['job_title'].value_counts()\n",
        "\n",
        "# Select the top N most common job titles for better visualization\n",
        "top_n = 20  # You can adjust this value as needed\n",
        "top_job_title_counts = job_title_counts.head(top_n)\n",
        "\n",
        "# Plot the distribution of top job titles\n",
        "plt.figure(figsize=(10, 6))\n",
        "top_job_title_counts.plot(kind='bar')\n",
        "plt.title(f'Top {top_n} Most Common Job Titles')\n",
        "plt.xlabel('Job Title')\n",
        "plt.ylabel('Frequency')\n",
        "plt.xticks(rotation=90)  # Rotate x-axis labels for better readability\n",
        "plt.tight_layout()\n",
        "plt.show()"
      ],
      "metadata": {
        "id": "Yrm6GHBhZ3m8",
        "outputId": "09d39c0d-8db6-4b87-9e4e-18287103bea2",
        "colab": {
          "base_uri": "https://localhost:8080/",
          "height": 607
        }
      },
      "execution_count": 78,
      "outputs": [
        {
          "output_type": "display_data",
          "data": {
            "text/plain": [
              "<Figure size 1000x600 with 1 Axes>"
            ],
            "image/png": "[encoded data removed]"
          },
          "metadata": {}
        }
      ]
    },
    {
      "cell_type": "markdown",
      "source": [
        "These are top 20 jobs by frequency"
      ],
      "metadata": {
        "id": "KpnfzLQ2Z6p5"
      }
    },
    {
      "cell_type": "code",
      "source": [
        "from sklearn.feature_extraction.text import TfidfVectorizer\n",
        "\n",
        "# Initialize the TF-IDF vectorizer\n",
        "tfidf_vectorizer = TfidfVectorizer(max_features=1000)  # You can adjust max_features as needed\n",
        "\n",
        "# Fit and transform the job descriptions to TF-IDF features\n",
        "tfidf_features = tfidf_vectorizer.fit_transform(df['jds'])\n",
        "\n",
        "# Print the shape of the TF-IDF matrix\n",
        "print(\"Shape of TF-IDF matrix:\", tfidf_features.shape)\n"
      ],
      "metadata": {
        "id": "HjU4fwX0ZORP",
        "outputId": "79046b4b-8553-4376-fc39-b0d995a2973a",
        "colab": {
          "base_uri": "https://localhost:8080/"
        }
      },
      "execution_count": 77,
      "outputs": [
        {
          "output_type": "stream",
          "name": "stdout",
          "text": [
            "Shape of TF-IDF matrix: (8349, 1000)\n"
          ]
        }
      ]
    },
    {
      "cell_type": "markdown",
      "source": [
        "The output (8349, 1000) indicates that the TF-IDF matrix has 8349 rows (samples) and 1000 columns (features).\n",
        "\n",
        "Each row corresponds to a job description in the dataset.\n",
        "Each column represents a unique word or token from the job descriptions, with a maximum of 1000 words due to the max_features parameter.\n",
        "The values in the matrix represent the TF-IDF scores for each word in each job description."
      ],
      "metadata": {
        "id": "bZkgnuvzZfpn"
      }
    },
    {
      "metadata": {
        "id": "-yGCugCDvaem"
      },
      "cell_type": "markdown",
      "source": [
        "## Train and Test Split"
      ]
    },
    {
      "cell_type": "markdown",
      "source": [
        "Here splitted the dataset"
      ],
      "metadata": {
        "id": "3W3ilFifaQ8z"
      }
    },
    {
      "metadata": {
        "trusted": true,
        "id": "9BCGDKzwvaen"
      },
      "cell_type": "code",
      "source": [
        "TRAIN_SIZE = 0.8\n",
        "MAX_NB_WORDS = 100000\n",
        "MAX_SEQUENCE_LENGTH = 30"
      ],
      "execution_count": 21,
      "outputs": []
    },
    {
      "metadata": {
        "trusted": true,
        "id": "1ZGBvB5Cvaen",
        "outputId": "caf90c1d-e459-4e8f-bf9f-607ef45709f2",
        "colab": {
          "base_uri": "https://localhost:8080/"
        }
      },
      "cell_type": "code",
      "source": [
        "train_data, test_data = train_test_split(df, test_size=1-TRAIN_SIZE,\n",
        "                                         random_state=44) # Splits Dataset into Training and Testing set\n",
        "print(\"Train Data size:\", len(train_data))\n",
        "print(\"Test Data size\", len(test_data))"
      ],
      "execution_count": 22,
      "outputs": [
        {
          "output_type": "stream",
          "name": "stdout",
          "text": [
            "Train Data size: 6679\n",
            "Test Data size 1670\n"
          ]
        }
      ]
    },
    {
      "cell_type": "code",
      "source": [
        "df['job_title'].nunique()"
      ],
      "metadata": {
        "id": "Cbgr6scm9kH1",
        "outputId": "871aa82a-0800-40f6-9246-12bae34c9149",
        "colab": {
          "base_uri": "https://localhost:8080/"
        }
      },
      "execution_count": 23,
      "outputs": [
        {
          "output_type": "execute_result",
          "data": {
            "text/plain": [
              "5976"
            ]
          },
          "metadata": {},
          "execution_count": 23
        }
      ]
    },
    {
      "cell_type": "code",
      "source": [
        "train_data['job_title'].nunique()"
      ],
      "metadata": {
        "id": "EizxDiuF9cJo",
        "outputId": "af84dd74-0c13-4af9-dc75-edcef95dadc9",
        "colab": {
          "base_uri": "https://localhost:8080/"
        }
      },
      "execution_count": 24,
      "outputs": [
        {
          "output_type": "execute_result",
          "data": {
            "text/plain": [
              "5007"
            ]
          },
          "metadata": {},
          "execution_count": 24
        }
      ]
    },
    {
      "cell_type": "markdown",
      "source": [
        "The above 2 values should be the same but due to very high variance of dataset they are not equal."
      ],
      "metadata": {
        "id": "XYV5QN1NaWD3"
      }
    },
    {
      "metadata": {
        "trusted": true,
        "id": "MbORhpujvaen",
        "outputId": "6ac8f693-999c-4b82-9200-9bea1d56a398",
        "colab": {
          "base_uri": "https://localhost:8080/",
          "height": 363
        }
      },
      "cell_type": "code",
      "source": [
        "train_data.head(10)"
      ],
      "execution_count": 25,
      "outputs": [
        {
          "output_type": "execute_result",
          "data": {
            "text/plain": [
              "                                              job_title  \\\n",
              "4857                     Counterparty Credit Risk Quant   \n",
              "4002                                     Data Warehouse   \n",
              "6530  Mgr/ Sr Mgr - (Client Servicing) - A Leading E...   \n",
              "2904                            Head - Corporate Centre   \n",
              "8216                                Linux Administrator   \n",
              "8980                                   Head HR - Retail   \n",
              "1176          Window/ Wintel Administrator - L3 Support   \n",
              "7952                           Solution Manager - SMEAG   \n",
              "5247       Sr Application Support Analyst - Linux/ Unix   \n",
              "9634  GM/ AVP - Accounts Receivables Reqd for Large ...   \n",
              "\n",
              "                                                    jds  \n",
              "4857  maintenance enhancement model validation model...  \n",
              "4002  5 9 years experience relevant 3 5 yrs strong e...  \n",
              "6530  urgently looking mgr sr mgr client servicing l...  \n",
              "2904  top management position incumbent expected pro...  \n",
              "8216  responsibility work linux administration lvm l...  \n",
              "8980  required multi billion dollar retail group hr ...  \n",
              "1176  1 5 8 yrs overall relevant experience windows ...  \n",
              "7952  purpose job build maintain relationship promot...  \n",
              "5247  responsibilities 1 ability understand producti...  \n",
              "9634  job role would involve handling accounts recei...  "
            ],
            "text/html": [
              "\n",
              "  <div id=\"df-f216e55a-36ca-4f33-9fc7-cdf9b64e71f9\" class=\"colab-df-container\">\n",
              "    <div>\n",
              "<style scoped>\n",
              "    .dataframe tbody tr th:only-of-type {\n",
              "        vertical-align: middle;\n",
              "    }\n",
              "\n",
              "    .dataframe tbody tr th {\n",
              "        vertical-align: top;\n",
              "    }\n",
              "\n",
              "    .dataframe thead th {\n",
              "        text-align: right;\n",
              "    }\n",
              "</style>\n",
              "<table border=\"1\" class=\"dataframe\">\n",
              "  <thead>\n",
              "    <tr style=\"text-align: right;\">\n",
              "      <th></th>\n",
              "      <th>job_title</th>\n",
              "      <th>jds</th>\n",
              "    </tr>\n",
              "  </thead>\n",
              "  <tbody>\n",
              "    <tr>\n",
              "      <th>4857</th>\n",
              "      <td>Counterparty Credit Risk Quant</td>\n",
              "      <td>maintenance enhancement model validation model...</td>\n",
              "    </tr>\n",
              "    <tr>\n",
              "      <th>4002</th>\n",
              "      <td>Data Warehouse</td>\n",
              "      <td>5 9 years experience relevant 3 5 yrs strong e...</td>\n",
              "    </tr>\n",
              "    <tr>\n",
              "      <th>6530</th>\n",
              "      <td>Mgr/ Sr Mgr - (Client Servicing) - A Leading E...</td>\n",
              "      <td>urgently looking mgr sr mgr client servicing l...</td>\n",
              "    </tr>\n",
              "    <tr>\n",
              "      <th>2904</th>\n",
              "      <td>Head - Corporate Centre</td>\n",
              "      <td>top management position incumbent expected pro...</td>\n",
              "    </tr>\n",
              "    <tr>\n",
              "      <th>8216</th>\n",
              "      <td>Linux Administrator</td>\n",
              "      <td>responsibility work linux administration lvm l...</td>\n",
              "    </tr>\n",
              "    <tr>\n",
              "      <th>8980</th>\n",
              "      <td>Head HR - Retail</td>\n",
              "      <td>required multi billion dollar retail group hr ...</td>\n",
              "    </tr>\n",
              "    <tr>\n",
              "      <th>1176</th>\n",
              "      <td>Window/ Wintel Administrator - L3 Support</td>\n",
              "      <td>1 5 8 yrs overall relevant experience windows ...</td>\n",
              "    </tr>\n",
              "    <tr>\n",
              "      <th>7952</th>\n",
              "      <td>Solution Manager - SMEAG</td>\n",
              "      <td>purpose job build maintain relationship promot...</td>\n",
              "    </tr>\n",
              "    <tr>\n",
              "      <th>5247</th>\n",
              "      <td>Sr Application Support Analyst - Linux/ Unix</td>\n",
              "      <td>responsibilities 1 ability understand producti...</td>\n",
              "    </tr>\n",
              "    <tr>\n",
              "      <th>9634</th>\n",
              "      <td>GM/ AVP - Accounts Receivables Reqd for Large ...</td>\n",
              "      <td>job role would involve handling accounts recei...</td>\n",
              "    </tr>\n",
              "  </tbody>\n",
              "</table>\n",
              "</div>\n",
              "    <div class=\"colab-df-buttons\">\n",
              "\n",
              "  <div class=\"colab-df-container\">\n",
              "    <button class=\"colab-df-convert\" onclick=\"convertToInteractive('df-f216e55a-36ca-4f33-9fc7-cdf9b64e71f9')\"\n",
              "            title=\"Convert this dataframe to an interactive table.\"\n",
              "            style=\"display:none;\">\n",
              "\n",
              "  <svg xmlns=\"http://www.w3.org/2000/svg\" height=\"24px\" viewBox=\"0 -960 960 960\">\n",
              "    <path d=\"M120-120v-720h720v720H120Zm60-500h600v-160H180v160Zm220 220h160v-160H400v160Zm0 220h160v-160H400v160ZM180-400h160v-160H180v160Zm440 0h160v-160H620v160ZM180-180h160v-160H180v160Zm440 0h160v-160H620v160Z\"/>\n",
              "  </svg>\n",
              "    </button>\n",
              "\n",
              "  <style>\n",
              "    .colab-df-container {\n",
              "      display:flex;\n",
              "      gap: 12px;\n",
              "    }\n",
              "\n",
              "    .colab-df-convert {\n",
              "      background-color: #E8F0FE;\n",
              "      border: none;\n",
              "      border-radius: 50%;\n",
              "      cursor: pointer;\n",
              "      display: none;\n",
              "      fill: #1967D2;\n",
              "      height: 32px;\n",
              "      padding: 0 0 0 0;\n",
              "      width: 32px;\n",
              "    }\n",
              "\n",
              "    .colab-df-convert:hover {\n",
              "      background-color: #E2EBFA;\n",
              "      box-shadow: 0px 1px 2px rgba(60, 64, 67, 0.3), 0px 1px 3px 1px rgba(60, 64, 67, 0.15);\n",
              "      fill: #174EA6;\n",
              "    }\n",
              "\n",
              "    .colab-df-buttons div {\n",
              "      margin-bottom: 4px;\n",
              "    }\n",
              "\n",
              "    [theme=dark] .colab-df-convert {\n",
              "      background-color: #3B4455;\n",
              "      fill: #D2E3FC;\n",
              "    }\n",
              "\n",
              "    [theme=dark] .colab-df-convert:hover {\n",
              "      background-color: #434B5C;\n",
              "      box-shadow: 0px 1px 3px 1px rgba(0, 0, 0, 0.15);\n",
              "      filter: drop-shadow(0px 1px 2px rgba(0, 0, 0, 0.3));\n",
              "      fill: #FFFFFF;\n",
              "    }\n",
              "  </style>\n",
              "\n",
              "    <script>\n",
              "      const buttonEl =\n",
              "        document.querySelector('#df-f216e55a-36ca-4f33-9fc7-cdf9b64e71f9 button.colab-df-convert');\n",
              "      buttonEl.style.display =\n",
              "        google.colab.kernel.accessAllowed ? 'block' : 'none';\n",
              "\n",
              "      async function convertToInteractive(key) {\n",
              "        const element = document.querySelector('#df-f216e55a-36ca-4f33-9fc7-cdf9b64e71f9');\n",
              "        const dataTable =\n",
              "          await google.colab.kernel.invokeFunction('convertToInteractive',\n",
              "                                                    [key], {});\n",
              "        if (!dataTable) return;\n",
              "\n",
              "        const docLinkHtml = 'Like what you see? Visit the ' +\n",
              "          '<a target=\"_blank\" href=https://colab.research.google.com/notebooks/data_table.ipynb>data table notebook</a>'\n",
              "          + ' to learn more about interactive tables.';\n",
              "        element.innerHTML = '';\n",
              "        dataTable['output_type'] = 'display_data';\n",
              "        await google.colab.output.renderOutput(dataTable, element);\n",
              "        const docLink = document.createElement('div');\n",
              "        docLink.innerHTML = docLinkHtml;\n",
              "        element.appendChild(docLink);\n",
              "      }\n",
              "    </script>\n",
              "  </div>\n",
              "\n",
              "\n",
              "<div id=\"df-3c51f001-4275-42e1-a236-377bbece8624\">\n",
              "  <button class=\"colab-df-quickchart\" onclick=\"quickchart('df-3c51f001-4275-42e1-a236-377bbece8624')\"\n",
              "            title=\"Suggest charts\"\n",
              "            style=\"display:none;\">\n",
              "\n",
              "<svg xmlns=\"http://www.w3.org/2000/svg\" height=\"24px\"viewBox=\"0 0 24 24\"\n",
              "     width=\"24px\">\n",
              "    <g>\n",
              "        <path d=\"M19 3H5c-1.1 0-2 .9-2 2v14c0 1.1.9 2 2 2h14c1.1 0 2-.9 2-2V5c0-1.1-.9-2-2-2zM9 17H7v-7h2v7zm4 0h-2V7h2v10zm4 0h-2v-4h2v4z\"/>\n",
              "    </g>\n",
              "</svg>\n",
              "  </button>\n",
              "\n",
              "<style>\n",
              "  .colab-df-quickchart {\n",
              "      --bg-color: #E8F0FE;\n",
              "      --fill-color: #1967D2;\n",
              "      --hover-bg-color: #E2EBFA;\n",
              "      --hover-fill-color: #174EA6;\n",
              "      --disabled-fill-color: #AAA;\n",
              "      --disabled-bg-color: #DDD;\n",
              "  }\n",
              "\n",
              "  [theme=dark] .colab-df-quickchart {\n",
              "      --bg-color: #3B4455;\n",
              "      --fill-color: #D2E3FC;\n",
              "      --hover-bg-color: #434B5C;\n",
              "      --hover-fill-color: #FFFFFF;\n",
              "      --disabled-bg-color: #3B4455;\n",
              "      --disabled-fill-color: #666;\n",
              "  }\n",
              "\n",
              "  .colab-df-quickchart {\n",
              "    background-color: var(--bg-color);\n",
              "    border: none;\n",
              "    border-radius: 50%;\n",
              "    cursor: pointer;\n",
              "    display: none;\n",
              "    fill: var(--fill-color);\n",
              "    height: 32px;\n",
              "    padding: 0;\n",
              "    width: 32px;\n",
              "  }\n",
              "\n",
              "  .colab-df-quickchart:hover {\n",
              "    background-color: var(--hover-bg-color);\n",
              "    box-shadow: 0 1px 2px rgba(60, 64, 67, 0.3), 0 1px 3px 1px rgba(60, 64, 67, 0.15);\n",
              "    fill: var(--button-hover-fill-color);\n",
              "  }\n",
              "\n",
              "  .colab-df-quickchart-complete:disabled,\n",
              "  .colab-df-quickchart-complete:disabled:hover {\n",
              "    background-color: var(--disabled-bg-color);\n",
              "    fill: var(--disabled-fill-color);\n",
              "    box-shadow: none;\n",
              "  }\n",
              "\n",
              "  .colab-df-spinner {\n",
              "    border: 2px solid var(--fill-color);\n",
              "    border-color: transparent;\n",
              "    border-bottom-color: var(--fill-color);\n",
              "    animation:\n",
              "      spin 1s steps(1) infinite;\n",
              "  }\n",
              "\n",
              "  @keyframes spin {\n",
              "    0% {\n",
              "      border-color: transparent;\n",
              "      border-bottom-color: var(--fill-color);\n",
              "      border-left-color: var(--fill-color);\n",
              "    }\n",
              "    20% {\n",
              "      border-color: transparent;\n",
              "      border-left-color: var(--fill-color);\n",
              "      border-top-color: var(--fill-color);\n",
              "    }\n",
              "    30% {\n",
              "      border-color: transparent;\n",
              "      border-left-color: var(--fill-color);\n",
              "      border-top-color: var(--fill-color);\n",
              "      border-right-color: var(--fill-color);\n",
              "    }\n",
              "    40% {\n",
              "      border-color: transparent;\n",
              "      border-right-color: var(--fill-color);\n",
              "      border-top-color: var(--fill-color);\n",
              "    }\n",
              "    60% {\n",
              "      border-color: transparent;\n",
              "      border-right-color: var(--fill-color);\n",
              "    }\n",
              "    80% {\n",
              "      border-color: transparent;\n",
              "      border-right-color: var(--fill-color);\n",
              "      border-bottom-color: var(--fill-color);\n",
              "    }\n",
              "    90% {\n",
              "      border-color: transparent;\n",
              "      border-bottom-color: var(--fill-color);\n",
              "    }\n",
              "  }\n",
              "</style>\n",
              "\n",
              "  <script>\n",
              "    async function quickchart(key) {\n",
              "      const quickchartButtonEl =\n",
              "        document.querySelector('#' + key + ' button');\n",
              "      quickchartButtonEl.disabled = true;  // To prevent multiple clicks.\n",
              "      quickchartButtonEl.classList.add('colab-df-spinner');\n",
              "      try {\n",
              "        const charts = await google.colab.kernel.invokeFunction(\n",
              "            'suggestCharts', [key], {});\n",
              "      } catch (error) {\n",
              "        console.error('Error during call to suggestCharts:', error);\n",
              "      }\n",
              "      quickchartButtonEl.classList.remove('colab-df-spinner');\n",
              "      quickchartButtonEl.classList.add('colab-df-quickchart-complete');\n",
              "    }\n",
              "    (() => {\n",
              "      let quickchartButtonEl =\n",
              "        document.querySelector('#df-3c51f001-4275-42e1-a236-377bbece8624 button');\n",
              "      quickchartButtonEl.style.display =\n",
              "        google.colab.kernel.accessAllowed ? 'block' : 'none';\n",
              "    })();\n",
              "  </script>\n",
              "</div>\n",
              "\n",
              "    </div>\n",
              "  </div>\n"
            ],
            "application/vnd.google.colaboratory.intrinsic+json": {
              "type": "dataframe",
              "variable_name": "train_data",
              "summary": "{\n  \"name\": \"train_data\",\n  \"rows\": 6679,\n  \"fields\": [\n    {\n      \"column\": \"job_title\",\n      \"properties\": {\n        \"dtype\": \"string\",\n        \"num_unique_values\": 5007,\n        \"samples\": [\n          \"Frontend Developer - Html/css/jquery\",\n          \"RocSearch - FR Portfolio Lead\",\n          \"Quality Manager - A Export House\"\n        ],\n        \"semantic_type\": \"\",\n        \"description\": \"\"\n      }\n    },\n    {\n      \"column\": \"jds\",\n      \"properties\": {\n        \"dtype\": \"string\",\n        \"num_unique_values\": 5589,\n        \"samples\": [\n          \"desired skills competencies technology savvy knowledge mechanical design plastic metal components e g using unigraphics nx gd made production drawings geometric dimensioning tolerancing statistical tolerance analysis independent stacking design mobile phone whole structure design making related 2d 3d documents using software provide technical support product introduction assembly work instruction formulate bom review mechanical design various mobile phone projects finish review report\",\n          \"permanent position graduate domain b e b tech b sc bca pg mca computers experience mysql location gurgaon\",\n          \"tripatra reputable company energy sector operating indonesia 35 years tripatrahas established proven track record providing safe reliable engineered solution infrastructure needs energy sectors epc engineering procurement construction engineering project management engineered equipment packaging operation maintenance br br br position jbm ap br br br br engineering tpe br br junior mechanical engineer code jme br junior civil engineer code jce br junior electrical engineer code jee br junior instrument engineer code jie br junior process engineer code jpe br br br epc tpec br br project engineer code pe br planning scheduling code plan br system engineer code se br construction engineer code ce br estimation code est br br br br qualification br br fresh graduate bachelor degree reputable university relavant background mechanical civil industrial computer science electrical physics chemical engineering br min gpa 3 00 br able operate software cad pdms etc br english fluency br willing assigned project site area roster system br br br submit aplication via email tripatra\"\n        ],\n        \"semantic_type\": \"\",\n        \"description\": \"\"\n      }\n    }\n  ]\n}"
            }
          },
          "metadata": {},
          "execution_count": 25
        }
      ]
    },
    {
      "metadata": {
        "trusted": true,
        "id": "vi0VH6wRvaeo",
        "outputId": "0cc44ff1-ccf1-46e9-ae78-6cadaf5d0192",
        "colab": {
          "base_uri": "https://localhost:8080/"
        }
      },
      "cell_type": "code",
      "source": [
        "from keras.preprocessing.text import Tokenizer\n",
        "\n",
        "tokenizer = Tokenizer()\n",
        "tokenizer.fit_on_texts(train_data.jds)\n",
        "\n",
        "word_index = tokenizer.word_index\n",
        "vocab_size = len(tokenizer.word_index) + 1\n",
        "print(\"Vocabulary Size :\", vocab_size)"
      ],
      "execution_count": 52,
      "outputs": [
        {
          "output_type": "stream",
          "name": "stdout",
          "text": [
            "Vocabulary Size : 18748\n"
          ]
        }
      ]
    },
    {
      "metadata": {
        "id": "TN1cSFXIvaeo"
      },
      "cell_type": "markdown",
      "source": [
        "Now we got a `tokenizer` object, which can be used to covert any word into a Key in dictionary (number).\n",
        "\n",
        "Since we are going to build a sequence model. We should feed in a sequence of numbers to it. And also we should ensure there is no variance in input shapes of sequences. It all should be of same lenght. But texts in tweets have different count of words in it. To avoid this, we seek a little help from `pad_sequence` to do our job. It will make all the sequence in one constant length `MAX_SEQUENCE_LENGTH`."
      ]
    },
    {
      "metadata": {
        "trusted": true,
        "id": "xogzCbOlvaeo",
        "outputId": "5da9087c-0e71-4357-e476-0d6c7820e332",
        "colab": {
          "base_uri": "https://localhost:8080/"
        }
      },
      "cell_type": "code",
      "source": [
        "from keras.preprocessing.sequence import pad_sequences\n",
        "\n",
        "x_train = pad_sequences(tokenizer.texts_to_sequences(train_data.jds),\n",
        "                        maxlen = MAX_SEQUENCE_LENGTH)\n",
        "x_test = pad_sequences(tokenizer.texts_to_sequences(test_data.jds),\n",
        "                       maxlen = MAX_SEQUENCE_LENGTH)\n",
        "\n",
        "print(\"Training X Shape:\",x_train.shape)\n",
        "print(\"Testing X Shape:\",x_test.shape)"
      ],
      "execution_count": 27,
      "outputs": [
        {
          "output_type": "stream",
          "name": "stdout",
          "text": [
            "Training X Shape: (6679, 30)\n",
            "Testing X Shape: (1670, 30)\n"
          ]
        }
      ]
    },
    {
      "metadata": {
        "trusted": true,
        "id": "AVthi5MMvaeo"
      },
      "cell_type": "code",
      "source": [
        "labels = train_data.job_title.unique().tolist()\n",
        "# c = to_categorical(labels)"
      ],
      "execution_count": 54,
      "outputs": []
    },
    {
      "metadata": {
        "id": "eOa6RzGhvaep"
      },
      "cell_type": "markdown",
      "source": [
        "### Label Encoding\n",
        "We are building the model to predict class in enocoded form (0 or 1 as this is a binary classification). We should encode our training labels to encodings."
      ]
    },
    {
      "metadata": {
        "trusted": true,
        "id": "SbTWc5J4vaep",
        "outputId": "957c382b-c15e-408d-d420-1fa39c4f26c9",
        "colab": {
          "base_uri": "https://localhost:8080/"
        }
      },
      "cell_type": "code",
      "source": [
        "from sklearn.preprocessing import LabelEncoder\n",
        "\n",
        "# Initialize LabelEncoder\n",
        "encoder = LabelEncoder()\n",
        "\n",
        "# Fit LabelEncoder on training data\n",
        "encoder.fit(train_data.job_title.to_list())\n",
        "\n",
        "# Transform training data\n",
        "y_train = encoder.transform(train_data.job_title.to_list())\n",
        "y_train = y_train.reshape(-1, 1)\n",
        "\n",
        "# Transform test data and handle unseen labels\n",
        "y_test = []\n",
        "for label in test_data.job_title.to_list():\n",
        "    try:\n",
        "        encoded_label = encoder.transform([label])[0]\n",
        "        y_test.append(encoded_label)\n",
        "    except ValueError:\n",
        "        # Handle unseen labels by assigning a default value or skipping the label\n",
        "        # For example, you can assign a value of -1\n",
        "        y_test.append(-1)\n",
        "\n",
        "y_test = np.array(y_test).reshape(-1, 1)\n",
        "\n",
        "print(\"y_train shape:\", y_train.shape)\n",
        "print(\"y_test shape:\", y_test.shape)\n",
        "\n",
        "\n",
        "# encoder = LabelEncoder()\n",
        "# encoder.fit(train_data.job_title.to_list())\n",
        "\n",
        "# y_train = encoder.transform(train_data.job_title.to_list())\n",
        "# y_test = encoder.transform(test_data.job_title.to_list())\n",
        "\n",
        "# y_train = y_train.reshape(-1,1)\n",
        "# y_test = y_test.reshape(-1,1)\n",
        "\n",
        "# print(\"y_train shape:\", y_train.shape)\n",
        "# print(\"y_test shape:\", y_test.shape)"
      ],
      "execution_count": 55,
      "outputs": [
        {
          "output_type": "stream",
          "name": "stdout",
          "text": [
            "y_train shape: (6679, 1)\n",
            "y_test shape: (1670, 1)\n"
          ]
        }
      ]
    },
    {
      "cell_type": "code",
      "source": [
        "y_train"
      ],
      "metadata": {
        "id": "6yctxl3-8rz0",
        "outputId": "d6695ac9-5896-43e9-f8bf-eb98dc5254c2",
        "colab": {
          "base_uri": "https://localhost:8080/"
        }
      },
      "execution_count": 56,
      "outputs": [
        {
          "output_type": "execute_result",
          "data": {
            "text/plain": [
              "array([[1077],\n",
              "       [1188],\n",
              "       [3033],\n",
              "       ...,\n",
              "       [ 283],\n",
              "       [4759],\n",
              "       [2907]])"
            ]
          },
          "metadata": {},
          "execution_count": 56
        }
      ]
    },
    {
      "metadata": {
        "id": "_j4l1CJPvaep"
      },
      "cell_type": "markdown",
      "source": [
        "# Word Emdedding\n",
        "In Language Model, words are represented in a way to intend more meaning and for learning the patterns and contextual meaning behind it.\n",
        "\n",
        "Basically, it's a feature vector representation of words which are used for other natural language processing applications.\n",
        "\n",
        "We could train the embedding ourselves but that would take a while to train and it wouldn't be effective. So going in the path of Computer Vision, here we use **Transfer Learning**. We download the pre-trained embedding and use it in our model."
      ]
    },
    {
      "metadata": {
        "trusted": true,
        "id": "DhzBlPCwvaep",
        "outputId": "77043401-052d-44ef-83f7-c8c58bbad297",
        "colab": {
          "base_uri": "https://localhost:8080/"
        }
      },
      "cell_type": "code",
      "source": [
        "!wget http://nlp.stanford.edu/data/glove.6B.zip\n",
        "!unzip glove.6B.zip"
      ],
      "execution_count": 30,
      "outputs": [
        {
          "output_type": "stream",
          "name": "stdout",
          "text": [
            "--2024-04-14 14:38:12--  http://nlp.stanford.edu/data/glove.6B.zip\n",
            "Resolving nlp.stanford.edu (nlp.stanford.edu)... 171.64.67.140\n",
            "Connecting to nlp.stanford.edu (nlp.stanford.edu)|171.64.67.140|:80... connected.\n",
            "HTTP request sent, awaiting response... 302 Found\n",
            "Location: https://nlp.stanford.edu/data/glove.6B.zip [following]\n",
            "--2024-04-14 14:38:12--  https://nlp.stanford.edu/data/glove.6B.zip\n",
            "Connecting to nlp.stanford.edu (nlp.stanford.edu)|171.64.67.140|:443... connected.\n",
            "HTTP request sent, awaiting response... 301 Moved Permanently\n",
            "Location: https://downloads.cs.stanford.edu/nlp/data/glove.6B.zip [following]\n",
            "--2024-04-14 14:38:13--  https://downloads.cs.stanford.edu/nlp/data/glove.6B.zip\n",
            "Resolving downloads.cs.stanford.edu (downloads.cs.stanford.edu)... 171.64.64.22\n",
            "Connecting to downloads.cs.stanford.edu (downloads.cs.stanford.edu)|171.64.64.22|:443... connected.\n",
            "HTTP request sent, awaiting response... 200 OK\n",
            "Length: 862182613 (822M) [application/zip]\n",
            "Saving to: ‘glove.6B.zip’\n",
            "\n",
            "glove.6B.zip        100%[===================>] 822.24M  5.13MB/s    in 2m 41s  \n",
            "\n",
            "2024-04-14 14:40:54 (5.12 MB/s) - ‘glove.6B.zip’ saved [862182613/862182613]\n",
            "\n",
            "Archive:  glove.6B.zip\n",
            "  inflating: glove.6B.50d.txt        \n",
            "  inflating: glove.6B.100d.txt       \n",
            "  inflating: glove.6B.200d.txt       \n",
            "  inflating: glove.6B.300d.txt       \n"
          ]
        }
      ]
    },
    {
      "metadata": {
        "trusted": true,
        "id": "MNQJFqwtvaep"
      },
      "cell_type": "code",
      "source": [
        "GLOVE_EMB = 'glove.6B.300d.txt'\n",
        "EMBEDDING_DIM = 300\n",
        "LR = 1e-3\n",
        "BATCH_SIZE = 64\n",
        "EPOCHS = 10"
      ],
      "execution_count": 31,
      "outputs": []
    },
    {
      "metadata": {
        "trusted": true,
        "id": "P5d-01Hzvaeq",
        "outputId": "761ca972-a712-4a64-de5a-f88754f5d8d8",
        "colab": {
          "base_uri": "https://localhost:8080/"
        }
      },
      "cell_type": "code",
      "source": [
        "embeddings_index = {}\n",
        "\n",
        "f = open(GLOVE_EMB)\n",
        "for line in f:\n",
        "  values = line.split()\n",
        "  word = value = values[0]\n",
        "  coefs = np.asarray(values[1:], dtype='float32')\n",
        "  embeddings_index[word] = coefs\n",
        "f.close()\n",
        "\n",
        "print('Found %s word vectors.' %len(embeddings_index))"
      ],
      "execution_count": 57,
      "outputs": [
        {
          "output_type": "stream",
          "name": "stdout",
          "text": [
            "Found 400000 word vectors.\n"
          ]
        }
      ]
    },
    {
      "cell_type": "markdown",
      "source": [
        "We got 400000 word vectors"
      ],
      "metadata": {
        "id": "uJsBD36Va3Xu"
      }
    },
    {
      "metadata": {
        "trusted": true,
        "id": "b_wzY_Otvaeq"
      },
      "cell_type": "code",
      "source": [
        "embedding_matrix = np.zeros((vocab_size, EMBEDDING_DIM))\n",
        "for word, i in word_index.items():\n",
        "  embedding_vector = embeddings_index.get(word)\n",
        "  if embedding_vector is not None:\n",
        "    embedding_matrix[i] = embedding_vector"
      ],
      "execution_count": 58,
      "outputs": []
    },
    {
      "metadata": {
        "trusted": true,
        "id": "dKPKXW66vaeq"
      },
      "cell_type": "code",
      "source": [
        "embedding_layer = tf.keras.layers.Embedding(vocab_size,\n",
        "                                          EMBEDDING_DIM,\n",
        "                                          weights=[embedding_matrix],\n",
        "                                          input_length=MAX_SEQUENCE_LENGTH,\n",
        "                                          trainable=False)"
      ],
      "execution_count": 34,
      "outputs": []
    },
    {
      "metadata": {
        "id": "1RCwcyluvaer"
      },
      "cell_type": "markdown",
      "source": [
        "# Model Training - LSTM\n",
        "We are clear to build our Deep Learning model. While developing a DL model, we should keep in mind of key things like Model Architecture, Hyperparmeter Tuning and Performance of the model.\n",
        "\n",
        "As you can see in the word cloud, the some words are predominantly feature in both Positive and Negative tweets. This could be a problem if we are using a Machine Learning model like Naive Bayes, SVD, etc.. That's why we use **Sequence Models**.\n",
        "\n",
        "### Sequence Model\n",
        "![Sequence Model](https://miro.medium.com/max/1458/1*SICYykT7ybua1gVJDNlajw.png)\n",
        "\n",
        "Reccurent Neural Networks can handle a seqence of data and learn a pattern of input seqence to give either sequence or scalar value as output. In our case, the Neural Network outputs a scalar value prediction.\n",
        "\n",
        "For model architecture, we use\n",
        "\n",
        "1) **Embedding Layer** - Generates Embedding Vector for each input sequence.\n",
        "\n",
        "2) **Conv1D Layer** - Its using to convolve data into smaller feature vectors.\n",
        "\n",
        "3) **LSTM** - Long Short Term Memory, its a variant of RNN which has memory state cell to learn the context of words which are at further along the text to carry contextual meaning rather than just neighbouring words as in case of RNN.\n",
        "\n",
        "4) **Dense** - Fully Connected Layers for classification\n"
      ]
    },
    {
      "metadata": {
        "trusted": true,
        "id": "LcBn_PCwvaer"
      },
      "cell_type": "code",
      "source": [
        "from tensorflow.keras.layers import Conv1D, Bidirectional, LSTM, Dense, Input, Dropout\n",
        "from tensorflow.keras.layers import SpatialDropout1D\n",
        "from tensorflow.keras.callbacks import ModelCheckpoint"
      ],
      "execution_count": 59,
      "outputs": []
    },
    {
      "cell_type": "code",
      "source": [
        "classes = df['job_title'].nunique()"
      ],
      "metadata": {
        "id": "3kRsK0OQ5UKo"
      },
      "execution_count": 60,
      "outputs": []
    },
    {
      "metadata": {
        "trusted": true,
        "id": "Nz8TD9qGvaer",
        "outputId": "8d3359f8-f266-4e48-c0ff-214db27ec651",
        "colab": {
          "base_uri": "https://localhost:8080/"
        }
      },
      "cell_type": "code",
      "source": [
        "sequence_input = Input(shape=(MAX_SEQUENCE_LENGTH,), dtype='int32')\n",
        "embedding_sequences = embedding_layer(sequence_input)\n",
        "x = SpatialDropout1D(0.2)(embedding_sequences)\n",
        "x = Conv1D(64, 5, activation='relu')(x)\n",
        "x = Bidirectional(LSTM(64, dropout=0.2, recurrent_dropout=0.2))(x)\n",
        "x = Dense(512, activation='relu')(x)\n",
        "x = Dropout(0.5)(x)\n",
        "x = Dense(512, activation='relu')(x)\n",
        "outputs = Dense(classes, activation='softmax')(x)\n",
        "model = tf.keras.Model(sequence_input, outputs)"
      ],
      "execution_count": 61,
      "outputs": [
        {
          "output_type": "stream",
          "name": "stderr",
          "text": [
            "WARNING:tensorflow:Layer lstm_2 will not use cuDNN kernels since it doesn't meet the criteria. It will use a generic GPU kernel as fallback when running on GPU.\n",
            "WARNING:tensorflow:Layer lstm_2 will not use cuDNN kernels since it doesn't meet the criteria. It will use a generic GPU kernel as fallback when running on GPU.\n",
            "WARNING:tensorflow:Layer lstm_2 will not use cuDNN kernels since it doesn't meet the criteria. It will use a generic GPU kernel as fallback when running on GPU.\n"
          ]
        }
      ]
    },
    {
      "cell_type": "markdown",
      "source": [
        "Optimization Algorithm: The notebook utilizes the Adam optimization algorithm for gradient descent, known for its efficiency and adaptability to different types of data. Adam dynamically adjusts learning rates for each parameter, facilitating faster convergence and improved performance during training.\n",
        "\n",
        "Callbacks: Two essential callbacks are employed during training:\n",
        "\n",
        "LRScheduler: This callback dynamically adjusts the learning rate during training, helping to optimize convergence and achieve better results. Specifically, it exponentially decreases the learning rate after the initial epochs to fine-tune model performance.\n",
        "ModelCheckpoint: The ModelCheckpoint callback saves the best-performing model based on specified metrics during training. In this notebook, it ensures that the model with the lowest validation loss is saved, enabling the retention of the most optimal model for further evaluation or deployment.\n",
        "These succinct notes provide an overview of the key optimization techniques and callback functionalities utilized in the notebook."
      ],
      "metadata": {
        "id": "ez2c8vO4bdND"
      }
    },
    {
      "metadata": {
        "trusted": true,
        "id": "bZLjtInsvaes"
      },
      "cell_type": "code",
      "source": [
        "from tensorflow.keras.optimizers import Adam\n",
        "from tensorflow.keras.callbacks import ReduceLROnPlateau\n",
        "\n",
        "model.compile(optimizer=Adam(learning_rate=LR), loss='categorical_crossentropy',\n",
        "              metrics=['accuracy'])\n",
        "ReduceLROnPlateau = ReduceLROnPlateau(factor=0.1,\n",
        "                                     min_lr = 0.01,\n",
        "                                     monitor = 'val_loss',\n",
        "                                     verbose = 1)"
      ],
      "execution_count": 62,
      "outputs": []
    },
    {
      "metadata": {
        "id": "q3sJux8jvaes"
      },
      "cell_type": "markdown",
      "source": [
        "Let's start training... It takes a heck of a time if training in CPU, be sure your GPU turned on... May the CUDA Cores be with you...."
      ]
    },
    {
      "metadata": {
        "trusted": true,
        "id": "0BekWxbFvaes",
        "outputId": "1a2109d5-a606-457c-8bf6-51c3ec076694",
        "colab": {
          "base_uri": "https://localhost:8080/"
        }
      },
      "cell_type": "code",
      "source": [
        "print(\"Training on GPU...\") if tf.test.is_gpu_available() else print(\"Training on CPU...\")"
      ],
      "execution_count": 63,
      "outputs": [
        {
          "output_type": "stream",
          "name": "stdout",
          "text": [
            "Training on GPU...\n"
          ]
        }
      ]
    },
    {
      "cell_type": "code",
      "source": [
        "from tensorflow.keras.utils import to_categorical\n",
        "y_train_cat = to_categorical(y_train, num_classes = 5976)\n",
        "y_test_cat = to_categorical(y_test, num_classes = 5976)"
      ],
      "metadata": {
        "id": "zK5F2F-h79Rc"
      },
      "execution_count": 64,
      "outputs": []
    },
    {
      "cell_type": "markdown",
      "source": [
        "I have to make it forcefully 5976 just to run the model because there is lot of variance in this dataset."
      ],
      "metadata": {
        "id": "X0OBZTiQbjTs"
      }
    },
    {
      "cell_type": "code",
      "source": [
        "print(\"Shape of y_train:\", y_train_cat.shape)\n",
        "print(\"Shape of y_test:\", y_test_cat.shape)"
      ],
      "metadata": {
        "id": "hNDBwk3C6NRV",
        "outputId": "78c684f8-ddc8-474c-ea10-7af6db3d7180",
        "colab": {
          "base_uri": "https://localhost:8080/"
        }
      },
      "execution_count": 65,
      "outputs": [
        {
          "output_type": "stream",
          "name": "stdout",
          "text": [
            "Shape of y_train: (6679, 5976)\n",
            "Shape of y_test: (1670, 5976)\n"
          ]
        }
      ]
    },
    {
      "cell_type": "code",
      "source": [
        "model.summary()"
      ],
      "metadata": {
        "id": "1XLSZEXb6hDH",
        "outputId": "ada3304f-06a3-4782-bea7-3ff73fc866ba",
        "colab": {
          "base_uri": "https://localhost:8080/"
        }
      },
      "execution_count": 46,
      "outputs": [
        {
          "output_type": "stream",
          "name": "stdout",
          "text": [
            "Model: \"model_1\"\n",
            "_________________________________________________________________\n",
            " Layer (type)                Output Shape              Param #   \n",
            "=================================================================\n",
            " input_2 (InputLayer)        [(None, 30)]              0         \n",
            "                                                                 \n",
            " embedding (Embedding)       (None, 30, 300)           5624400   \n",
            "                                                                 \n",
            " spatial_dropout1d_1 (Spati  (None, 30, 300)           0         \n",
            " alDropout1D)                                                    \n",
            "                                                                 \n",
            " conv1d_1 (Conv1D)           (None, 26, 64)            96064     \n",
            "                                                                 \n",
            " bidirectional_1 (Bidirecti  (None, 128)               66048     \n",
            " onal)                                                           \n",
            "                                                                 \n",
            " dense_3 (Dense)             (None, 512)               66048     \n",
            "                                                                 \n",
            " dropout_1 (Dropout)         (None, 512)               0         \n",
            "                                                                 \n",
            " dense_4 (Dense)             (None, 512)               262656    \n",
            "                                                                 \n",
            " dense_5 (Dense)             (None, 5976)              3065688   \n",
            "                                                                 \n",
            "=================================================================\n",
            "Total params: 9180904 (35.02 MB)\n",
            "Trainable params: 3556504 (13.57 MB)\n",
            "Non-trainable params: 5624400 (21.46 MB)\n",
            "_________________________________________________________________\n"
          ]
        }
      ]
    },
    {
      "metadata": {
        "trusted": true,
        "id": "O7gqchKqvaes",
        "outputId": "21f5c711-d27d-4af3-d5b4-0b2be0c9eeba",
        "colab": {
          "base_uri": "https://localhost:8080/"
        }
      },
      "cell_type": "code",
      "source": [
        "history = model.fit(x_train, y_train_cat, batch_size=BATCH_SIZE, epochs=19,\n",
        "                    validation_data=(x_test, y_test_cat), callbacks=[ReduceLROnPlateau])"
      ],
      "execution_count": 68,
      "outputs": [
        {
          "output_type": "stream",
          "name": "stdout",
          "text": [
            "Epoch 1/19\n",
            "105/105 [==============================] - 27s 256ms/step - loss: 0.7193 - accuracy: 0.7837 - val_loss: 18.9331 - val_accuracy: 0.2395 - lr: 0.0010\n",
            "Epoch 2/19\n",
            "105/105 [==============================] - 25s 243ms/step - loss: 0.7028 - accuracy: 0.7865 - val_loss: 18.8691 - val_accuracy: 0.2401 - lr: 0.0010\n",
            "Epoch 3/19\n",
            "105/105 [==============================] - 26s 245ms/step - loss: 0.6769 - accuracy: 0.7956 - val_loss: 19.2302 - val_accuracy: 0.2359 - lr: 0.0010\n",
            "Epoch 4/19\n",
            "105/105 [==============================] - 26s 247ms/step - loss: 0.6536 - accuracy: 0.8015 - val_loss: 19.3245 - val_accuracy: 0.2347 - lr: 0.0010\n",
            "Epoch 5/19\n",
            "105/105 [==============================] - 26s 251ms/step - loss: 0.6451 - accuracy: 0.8072 - val_loss: 19.4584 - val_accuracy: 0.2371 - lr: 0.0010\n",
            "Epoch 6/19\n",
            "105/105 [==============================] - 26s 250ms/step - loss: 0.6236 - accuracy: 0.8043 - val_loss: 19.0535 - val_accuracy: 0.2377 - lr: 0.0010\n",
            "Epoch 7/19\n",
            "105/105 [==============================] - 26s 251ms/step - loss: 0.5951 - accuracy: 0.8188 - val_loss: 19.4175 - val_accuracy: 0.2389 - lr: 0.0010\n",
            "Epoch 8/19\n",
            "105/105 [==============================] - 26s 250ms/step - loss: 0.6187 - accuracy: 0.8063 - val_loss: 19.4385 - val_accuracy: 0.2413 - lr: 0.0010\n",
            "Epoch 9/19\n",
            "105/105 [==============================] - 27s 256ms/step - loss: 0.5912 - accuracy: 0.8181 - val_loss: 18.7072 - val_accuracy: 0.2455 - lr: 0.0010\n",
            "Epoch 10/19\n",
            "105/105 [==============================] - 27s 256ms/step - loss: 0.5712 - accuracy: 0.8247 - val_loss: 19.1121 - val_accuracy: 0.2449 - lr: 0.0010\n",
            "Epoch 11/19\n",
            "105/105 [==============================] - 26s 247ms/step - loss: 0.5727 - accuracy: 0.8221 - val_loss: 19.3818 - val_accuracy: 0.2407 - lr: 0.0010\n",
            "Epoch 12/19\n",
            "105/105 [==============================] - 27s 255ms/step - loss: 0.5533 - accuracy: 0.8293 - val_loss: 19.2522 - val_accuracy: 0.2377 - lr: 0.0010\n",
            "Epoch 13/19\n",
            "105/105 [==============================] - 27s 253ms/step - loss: 0.5358 - accuracy: 0.8332 - val_loss: 19.1064 - val_accuracy: 0.2401 - lr: 0.0010\n",
            "Epoch 14/19\n",
            "105/105 [==============================] - 26s 250ms/step - loss: 0.5234 - accuracy: 0.8384 - val_loss: 18.9941 - val_accuracy: 0.2407 - lr: 0.0010\n",
            "Epoch 15/19\n",
            "105/105 [==============================] - 27s 255ms/step - loss: 0.5304 - accuracy: 0.8347 - val_loss: 19.0984 - val_accuracy: 0.2413 - lr: 0.0010\n",
            "Epoch 16/19\n",
            "105/105 [==============================] - 27s 255ms/step - loss: 0.5089 - accuracy: 0.8356 - val_loss: 19.5111 - val_accuracy: 0.2425 - lr: 0.0010\n",
            "Epoch 17/19\n",
            "105/105 [==============================] - 25s 240ms/step - loss: 0.5054 - accuracy: 0.8368 - val_loss: 19.6719 - val_accuracy: 0.2377 - lr: 0.0010\n",
            "Epoch 18/19\n",
            "105/105 [==============================] - 26s 245ms/step - loss: 0.5068 - accuracy: 0.8358 - val_loss: 19.2322 - val_accuracy: 0.2425 - lr: 0.0010\n",
            "Epoch 19/19\n",
            "105/105 [==============================] - 26s 244ms/step - loss: 0.4869 - accuracy: 0.8458 - val_loss: 19.2087 - val_accuracy: 0.2437 - lr: 0.0010\n"
          ]
        }
      ]
    },
    {
      "metadata": {
        "id": "ULNrWVsivaes"
      },
      "cell_type": "markdown",
      "source": [
        "# Model Evaluation\n",
        "Now that we have trained the model, we can evaluate its performance. We will some evaluation metrics and techniques to test the model.\n",
        "\n",
        "Let's start with the Learning Curve of loss and accuracy of the model on each epoch."
      ]
    },
    {
      "metadata": {
        "trusted": true,
        "id": "ElNlFgZ8vaet",
        "outputId": "5c35f16b-70a5-4635-c2ad-df86d6d873cc",
        "colab": {
          "base_uri": "https://localhost:8080/",
          "height": 489
        }
      },
      "cell_type": "code",
      "source": [
        "s, (at, al) = plt.subplots(2,1)\n",
        "at.plot(history.history['accuracy'], c= 'b')\n",
        "at.plot(history.history['val_accuracy'], c='r')\n",
        "at.set_title('model accuracy')\n",
        "at.set_ylabel('accuracy')\n",
        "at.set_xlabel('epoch')\n",
        "at.legend(['LSTM_train', 'LSTM_val'], loc='upper left')\n",
        "\n",
        "al.plot(history.history['loss'], c='m')\n",
        "al.plot(history.history['val_loss'], c='c')\n",
        "al.set_title('model loss')\n",
        "al.set_ylabel('loss')\n",
        "al.set_xlabel('epoch')\n",
        "al.legend(['train', 'val'], loc = 'upper left')"
      ],
      "execution_count": 70,
      "outputs": [
        {
          "output_type": "execute_result",
          "data": {
            "text/plain": [
              "<matplotlib.legend.Legend at 0x7f038451cc10>"
            ]
          },
          "metadata": {},
          "execution_count": 70
        },
        {
          "output_type": "display_data",
          "data": {
            "text/plain": [
              "<Figure size 640x480 with 2 Axes>"
            ],
            "image/png": "[encoded data removed]"
          },
          "metadata": {}
        }
      ]
    },
    {
      "cell_type": "markdown",
      "source": [
        "Here I created the model which can predict job_title by given job_description. But its accuracy is not that good because there lot of entries in dataset and those all are unique."
      ],
      "metadata": {
        "id": "qCA_bbxLbwJC"
      }
    },
    {
      "cell_type": "markdown",
      "source": [
        "There is Future scope in this work as, We have to manipulate job_titles as such that they have very broad meaning.\n",
        "Ex -> If there is 2 entries (Sr. Software Engineer) and (Software Engineer) then we can merge them and give the same job_title.\n",
        "This will enhance accuracy and also reduce the variance of the dataset."
      ],
      "metadata": {
        "id": "3pAMdtAUcFhV"
      }
    }
  ],
  "metadata": {
    "kernelspec": {
      "display_name": "Python 3",
      "name": "python3"
    },
    "language_info": {
      "pygments_lexer": "ipython3",
      "nbconvert_exporter": "python",
      "version": "3.6.4",
      "file_extension": ".py",
      "codemirror_mode": {
        "name": "ipython",
        "version": 3
      },
      "name": "python",
      "mimetype": "text/x-python"
    },
    "colab": {
      "name": "NLP Beginner - Text Classification using LSTM",
      "provenance": [],
      "gpuType": "T4"
    },
    "accelerator": "GPU"
  },
  "nbformat": 4,
  "nbformat_minor": 0
}